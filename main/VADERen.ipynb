{
 "cells": [
  {
   "cell_type": "code",
   "execution_count": 1,
   "id": "88780aeb",
   "metadata": {},
   "outputs": [],
   "source": [
    "import pandas as pd\n",
    "import numpy as np \n",
    "import os \n",
    "from googletrans import Translator\n",
    "from vaderSentiment.vaderSentiment import SentimentIntensityAnalyzer\n",
    "import warnings\n",
    "warnings.filterwarnings('ignore')"
   ]
  },
  {
   "cell_type": "code",
   "execution_count": 2,
   "id": "49b99b56",
   "metadata": {},
   "outputs": [],
   "source": [
    "rev = pd.read_csv('../madrid/reviews_detailed/comments_short.csv')"
   ]
  },
  {
   "cell_type": "code",
   "execution_count": 3,
   "id": "150ca377",
   "metadata": {},
   "outputs": [],
   "source": [
    "rev = rev.dropna()"
   ]
  },
  {
   "cell_type": "code",
   "execution_count": 4,
   "id": "60a47174",
   "metadata": {},
   "outputs": [],
   "source": [
    "rev_en = rev[rev['idiomas'] == 'en']"
   ]
  },
  {
   "cell_type": "code",
   "execution_count": 5,
   "id": "6bfaa982",
   "metadata": {},
   "outputs": [
    {
     "data": {
      "text/plain": [
       "(350297, 7)"
      ]
     },
     "execution_count": 5,
     "metadata": {},
     "output_type": "execute_result"
    }
   ],
   "source": [
    "rev_en.shape"
   ]
  },
  {
   "cell_type": "code",
   "execution_count": 6,
   "id": "39597fe9",
   "metadata": {},
   "outputs": [],
   "source": [
    "rev_en.date=pd.to_datetime(rev_en.date, format='%Y-%m-%d')"
   ]
  },
  {
   "cell_type": "code",
   "execution_count": 7,
   "id": "aba3aae7",
   "metadata": {},
   "outputs": [
    {
     "name": "stdout",
     "output_type": "stream",
     "text": [
      "{'neg': 0.029, 'neu': 0.505, 'pos': 0.466, 'compound': 0.9908}\n"
     ]
    }
   ],
   "source": [
    "sia = SentimentIntensityAnalyzer()\n",
    "\n",
    "# Obtener el primer comentario de la columna \"comments\"\n",
    "primer_comentario = rev_en[\"comments_short\"].iloc[96]\n",
    "\n",
    "# Analizar el sentimiento del comentario utilizando VADER\n",
    "sentimiento = sia.polarity_scores(primer_comentario)\n",
    "\n",
    "# Imprimir el resultado\n",
    "print(sentimiento)"
   ]
  },
  {
   "cell_type": "code",
   "execution_count": 8,
   "id": "336f36d2",
   "metadata": {},
   "outputs": [],
   "source": [
    "import os.path\n",
    "\n",
    "# Dividir los datos en paquetes de 1000 filas\n",
    "tamano_paquete = 1000\n",
    "num_paquete = 0\n",
    "for inicio in range(0, len(rev_en), tamano_paquete):\n",
    "    fin = inicio + tamano_paquete\n",
    "    paquete = rev_en.iloc[inicio:fin]\n",
    "\n",
    "    # Analizar el sentimiento de cada comentario en el paquete\n",
    "    sia = SentimentIntensityAnalyzer()\n",
    "    paquete['sentimiento'] = paquete['comments_short'].apply(lambda comentario: sia.polarity_scores(comentario))\n",
    "\n",
    "    # Guardar el paquete en un archivo separado\n",
    "    nombre_archivo = f'paquete_{num_paquete}.csv'\n",
    "    if not os.path.exists(nombre_archivo):\n",
    "        paquete.to_csv(nombre_archivo, index=False)\n",
    "    else:\n",
    "        paquete.to_csv(nombre_archivo, mode='a', header=False, index=False)\n",
    "    num_paquete += 1"
   ]
  },
  {
   "cell_type": "code",
   "execution_count": 11,
   "id": "432cdb5e",
   "metadata": {},
   "outputs": [
    {
     "data": {
      "text/html": [
       "<div>\n",
       "<style scoped>\n",
       "    .dataframe tbody tr th:only-of-type {\n",
       "        vertical-align: middle;\n",
       "    }\n",
       "\n",
       "    .dataframe tbody tr th {\n",
       "        vertical-align: top;\n",
       "    }\n",
       "\n",
       "    .dataframe thead th {\n",
       "        text-align: right;\n",
       "    }\n",
       "</style>\n",
       "<table border=\"1\" class=\"dataframe\">\n",
       "  <thead>\n",
       "    <tr style=\"text-align: right;\">\n",
       "      <th></th>\n",
       "      <th>listing_id</th>\n",
       "      <th>id</th>\n",
       "      <th>date</th>\n",
       "      <th>reviewer_id</th>\n",
       "      <th>comments</th>\n",
       "      <th>idiomas</th>\n",
       "      <th>comments_short</th>\n",
       "      <th>sentimiento</th>\n",
       "    </tr>\n",
       "  </thead>\n",
       "  <tbody>\n",
       "    <tr>\n",
       "      <th>0</th>\n",
       "      <td>6369</td>\n",
       "      <td>29428</td>\n",
       "      <td>2010-03-14</td>\n",
       "      <td>84790</td>\n",
       "      <td>simon and arturo have the ultimate location in...</td>\n",
       "      <td>en</td>\n",
       "      <td>arturo ultimate location step bus line want vi...</td>\n",
       "      <td>{'neg': 0.0, 'neu': 0.623, 'pos': 0.377, 'comp...</td>\n",
       "    </tr>\n",
       "    <tr>\n",
       "      <th>1</th>\n",
       "      <td>6369</td>\n",
       "      <td>31018</td>\n",
       "      <td>2010-03-23</td>\n",
       "      <td>84338</td>\n",
       "      <td>myself and kristy originally planned on stayin...</td>\n",
       "      <td>en</td>\n",
       "      <td>plan stay arturo week plan change arturo open ...</td>\n",
       "      <td>{'neg': 0.025, 'neu': 0.357, 'pos': 0.618, 'co...</td>\n",
       "    </tr>\n",
       "    <tr>\n",
       "      <th>2</th>\n",
       "      <td>6369</td>\n",
       "      <td>34694</td>\n",
       "      <td>2010-04-10</td>\n",
       "      <td>98655</td>\n",
       "      <td>we had a great time at arturo and simon's ! a ...</td>\n",
       "      <td>en</td>\n",
       "      <td>great time arturo cosy apartment wonderful ter...</td>\n",
       "      <td>{'neg': 0.0, 'neu': 0.314, 'pos': 0.686, 'comp...</td>\n",
       "    </tr>\n",
       "    <tr>\n",
       "      <th>3</th>\n",
       "      <td>6369</td>\n",
       "      <td>37146</td>\n",
       "      <td>2010-04-21</td>\n",
       "      <td>109871</td>\n",
       "      <td>i very much enjoyed the stay.  \\r\\nit's a wond...</td>\n",
       "      <td>en</td>\n",
       "      <td>enjoy stay wonderful room bath great apartment...</td>\n",
       "      <td>{'neg': 0.0, 'neu': 0.34, 'pos': 0.66, 'compou...</td>\n",
       "    </tr>\n",
       "    <tr>\n",
       "      <th>4</th>\n",
       "      <td>6369</td>\n",
       "      <td>38168</td>\n",
       "      <td>2010-04-26</td>\n",
       "      <td>98901</td>\n",
       "      <td>arturo and simon are polite and friendly hosts...</td>\n",
       "      <td>en</td>\n",
       "      <td>polite friendly host provide pleasant convenie...</td>\n",
       "      <td>{'neg': 0.0, 'neu': 0.48, 'pos': 0.52, 'compou...</td>\n",
       "    </tr>\n",
       "  </tbody>\n",
       "</table>\n",
       "</div>"
      ],
      "text/plain": [
       "   listing_id     id        date  reviewer_id  \\\n",
       "0        6369  29428  2010-03-14        84790   \n",
       "1        6369  31018  2010-03-23        84338   \n",
       "2        6369  34694  2010-04-10        98655   \n",
       "3        6369  37146  2010-04-21       109871   \n",
       "4        6369  38168  2010-04-26        98901   \n",
       "\n",
       "                                            comments idiomas  \\\n",
       "0  simon and arturo have the ultimate location in...      en   \n",
       "1  myself and kristy originally planned on stayin...      en   \n",
       "2  we had a great time at arturo and simon's ! a ...      en   \n",
       "3  i very much enjoyed the stay.  \\r\\nit's a wond...      en   \n",
       "4  arturo and simon are polite and friendly hosts...      en   \n",
       "\n",
       "                                      comments_short  \\\n",
       "0  arturo ultimate location step bus line want vi...   \n",
       "1  plan stay arturo week plan change arturo open ...   \n",
       "2  great time arturo cosy apartment wonderful ter...   \n",
       "3  enjoy stay wonderful room bath great apartment...   \n",
       "4  polite friendly host provide pleasant convenie...   \n",
       "\n",
       "                                         sentimiento  \n",
       "0  {'neg': 0.0, 'neu': 0.623, 'pos': 0.377, 'comp...  \n",
       "1  {'neg': 0.025, 'neu': 0.357, 'pos': 0.618, 'co...  \n",
       "2  {'neg': 0.0, 'neu': 0.314, 'pos': 0.686, 'comp...  \n",
       "3  {'neg': 0.0, 'neu': 0.34, 'pos': 0.66, 'compou...  \n",
       "4  {'neg': 0.0, 'neu': 0.48, 'pos': 0.52, 'compou...  "
      ]
     },
     "execution_count": 11,
     "metadata": {},
     "output_type": "execute_result"
    }
   ],
   "source": [
    "import pandas as pd\n",
    "import glob\n",
    "\n",
    "# Ruta donde se encuentran los archivos CSV\n",
    "path = r'C:/Users/Pedro Vidales/Desktop/Proyecto-Final_/main/vader/*.csv'\n",
    "\n",
    "# Lee todos los archivos CSV y crea un dataframe para cada uno\n",
    "all_files = glob.glob(path)\n",
    "df_list = []\n",
    "for filename in all_files:\n",
    "    df = pd.read_csv(filename, index_col=None, header=0)\n",
    "    df_list.append(df)\n",
    "\n",
    "# Concatena los dataframes en uno solo\n",
    "rev_paquetes3 = pd.concat(df_list, axis=0, ignore_index=True)\n",
    "\n",
    "# Muestra el resultado\n",
    "rev_paquetes3.head()"
   ]
  },
  {
   "cell_type": "code",
   "execution_count": 12,
   "id": "2e1d8b9a",
   "metadata": {},
   "outputs": [],
   "source": [
    "import json\n",
    "def parse_sentimientos(sentimiento):\n",
    "    return json.loads(sentimiento.replace(\"'\", \"\\\"\"))\n",
    "\n",
    "# Convertimos los datos en formato JSON a un diccionario de Python\n",
    "rev_paquetes3['sentimiento_dict'] = rev_paquetes3['sentimiento'].apply(parse_sentimientos)"
   ]
  },
  {
   "cell_type": "code",
   "execution_count": 13,
   "id": "27d067e4",
   "metadata": {},
   "outputs": [],
   "source": [
    "# Creamos cuatro columnas nuevas y extraemos los valores correspondientes a cada clave en cada fila\n",
    "rev_paquetes3['neg'] = rev_paquetes3['sentimiento_dict'].apply(lambda x: x['neg'])\n",
    "rev_paquetes3['neu'] = rev_paquetes3['sentimiento_dict'].apply(lambda x: x['neu'])\n",
    "rev_paquetes3['pos'] = rev_paquetes3['sentimiento_dict'].apply(lambda x: x['pos'])\n",
    "rev_paquetes3['compound'] = rev_paquetes3['sentimiento_dict'].apply(lambda x: x['compound'])\n"
   ]
  },
  {
   "cell_type": "code",
   "execution_count": 14,
   "id": "8f2ff232",
   "metadata": {},
   "outputs": [],
   "source": [
    "rev = rev_paquetes3.drop(['sentimiento', 'sentimiento_dict'], axis=1)"
   ]
  },
  {
   "cell_type": "code",
   "execution_count": null,
   "id": "2f142939",
   "metadata": {},
   "outputs": [],
   "source": []
  }
 ],
 "metadata": {
  "kernelspec": {
   "display_name": "Python 3 (ipykernel)",
   "language": "python",
   "name": "python3"
  },
  "language_info": {
   "codemirror_mode": {
    "name": "ipython",
    "version": 3
   },
   "file_extension": ".py",
   "mimetype": "text/x-python",
   "name": "python",
   "nbconvert_exporter": "python",
   "pygments_lexer": "ipython3",
   "version": "3.9.16"
  }
 },
 "nbformat": 4,
 "nbformat_minor": 5
}
