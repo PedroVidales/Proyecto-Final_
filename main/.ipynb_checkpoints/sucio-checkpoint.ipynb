{
 "cells": [
  {
   "cell_type": "code",
   "execution_count": 1,
   "id": "d2292ecd",
   "metadata": {},
   "outputs": [],
   "source": [
    "import pandas as pd\n",
    "from vaderSentiment.vaderSentiment import SentimentIntensityAnalyzer\n",
    "import warnings\n",
    "warnings.filterwarnings('ignore')"
   ]
  },
  {
   "cell_type": "code",
   "execution_count": 2,
   "id": "21d36120",
   "metadata": {},
   "outputs": [],
   "source": [
    "rev = pd.read_csv('../madrid/reviews_detailed/reviews_detailed.csv')"
   ]
  },
  {
   "cell_type": "code",
   "execution_count": 3,
   "id": "ee0d4cf9",
   "metadata": {},
   "outputs": [],
   "source": [
    "rev.dropna(axis=0, inplace=True)\n",
    "rev.reset_index(drop=True, inplace=True)"
   ]
  },
  {
   "cell_type": "code",
   "execution_count": 4,
   "id": "8d9ec11b",
   "metadata": {},
   "outputs": [],
   "source": [
    "rev.date=pd.to_datetime(rev.date, format='%Y-%m-%d')"
   ]
  },
  {
   "cell_type": "code",
   "execution_count": 5,
   "id": "8ae11efe",
   "metadata": {},
   "outputs": [
    {
     "name": "stdout",
     "output_type": "stream",
     "text": [
      "{'neg': 0.0, 'neu': 0.779, 'pos': 0.221, 'compound': 0.9523}\n"
     ]
    }
   ],
   "source": [
    "sia = SentimentIntensityAnalyzer()\n",
    "\n",
    "# Obtener el primer comentario de la columna \"comments\"\n",
    "primer_comentario = rev[\"comments\"].iloc[0]\n",
    "\n",
    "# Analizar el sentimiento del comentario utilizando VADER\n",
    "sentimiento = sia.polarity_scores(primer_comentario)\n",
    "\n",
    "# Imprimir el resultado\n",
    "print(sentimiento)"
   ]
  },
  {
   "cell_type": "code",
   "execution_count": 6,
   "id": "5a0f1f52",
   "metadata": {},
   "outputs": [
    {
     "data": {
      "text/plain": [
       "'Simon and Arturo have the ultimate location in Madrid!  Steps from the Metro and bus line to everywhere you want to visit.  The accomodations are clean, well appointed and fantastic views of Madrid skyline.  We felt like it was a spa when walking into the flat.  We were greeted warmly and offered lots of information to get up and running for our short stay.  We wished we could have stayed longer and we highly recommend this location and neighborhood.'"
      ]
     },
     "execution_count": 6,
     "metadata": {},
     "output_type": "execute_result"
    }
   ],
   "source": [
    "rev[\"comments\"][0]"
   ]
  },
  {
   "cell_type": "code",
   "execution_count": null,
   "id": "d1077e89",
   "metadata": {},
   "outputs": [],
   "source": [
    "import os.path\n",
    "\n",
    "# Dividir los datos en paquetes de 1000 filas\n",
    "tamano_paquete = 1000\n",
    "num_paquete = 0\n",
    "for inicio in range(0, len(rev), tamano_paquete):\n",
    "    fin = inicio + tamano_paquete\n",
    "    paquete = rev.iloc[inicio:fin]\n",
    "\n",
    "    # Analizar el sentimiento de cada comentario en el paquete\n",
    "    sia = SentimentIntensityAnalyzer()\n",
    "    paquete['sentimiento'] = paquete['comments'].apply(lambda comentario: sia.polarity_scores(comentario))\n",
    "\n",
    "    # Guardar el paquete en un archivo separado\n",
    "    nombre_archivo = f'paquete_{num_paquete}.csv'\n",
    "    if not os.path.exists(nombre_archivo):\n",
    "        paquete.to_csv(nombre_archivo, index=False)\n",
    "    else:\n",
    "        paquete.to_csv(nombre_archivo, mode='a', header=False, index=False)\n",
    "    num_paquete += 1"
   ]
  },
  {
   "cell_type": "code",
   "execution_count": null,
   "id": "4e46a239",
   "metadata": {},
   "outputs": [],
   "source": []
  },
  {
   "cell_type": "code",
   "execution_count": 7,
   "id": "dedd2b56",
   "metadata": {},
   "outputs": [
    {
     "data": {
      "text/html": [
       "<div>\n",
       "<style scoped>\n",
       "    .dataframe tbody tr th:only-of-type {\n",
       "        vertical-align: middle;\n",
       "    }\n",
       "\n",
       "    .dataframe tbody tr th {\n",
       "        vertical-align: top;\n",
       "    }\n",
       "\n",
       "    .dataframe thead th {\n",
       "        text-align: right;\n",
       "    }\n",
       "</style>\n",
       "<table border=\"1\" class=\"dataframe\">\n",
       "  <thead>\n",
       "    <tr style=\"text-align: right;\">\n",
       "      <th></th>\n",
       "      <th>listing_id</th>\n",
       "      <th>id</th>\n",
       "      <th>date</th>\n",
       "      <th>reviewer_id</th>\n",
       "      <th>reviewer_name</th>\n",
       "      <th>comments</th>\n",
       "      <th>sentimiento</th>\n",
       "    </tr>\n",
       "  </thead>\n",
       "  <tbody>\n",
       "    <tr>\n",
       "      <th>0</th>\n",
       "      <td>6369</td>\n",
       "      <td>29428</td>\n",
       "      <td>2010-03-14</td>\n",
       "      <td>84790</td>\n",
       "      <td>Nancy</td>\n",
       "      <td>Simon and Arturo have the ultimate location in...</td>\n",
       "      <td>{'neg': 0.0, 'neu': 0.779, 'pos': 0.221, 'comp...</td>\n",
       "    </tr>\n",
       "    <tr>\n",
       "      <th>1</th>\n",
       "      <td>6369</td>\n",
       "      <td>31018</td>\n",
       "      <td>2010-03-23</td>\n",
       "      <td>84338</td>\n",
       "      <td>David</td>\n",
       "      <td>Myself and Kristy originally planned on stayin...</td>\n",
       "      <td>{'neg': 0.017, 'neu': 0.609, 'pos': 0.374, 'co...</td>\n",
       "    </tr>\n",
       "    <tr>\n",
       "      <th>2</th>\n",
       "      <td>6369</td>\n",
       "      <td>34694</td>\n",
       "      <td>2010-04-10</td>\n",
       "      <td>98655</td>\n",
       "      <td>Marion</td>\n",
       "      <td>We had a great time at Arturo and Simon's ! A ...</td>\n",
       "      <td>{'neg': 0.0, 'neu': 0.612, 'pos': 0.388, 'comp...</td>\n",
       "    </tr>\n",
       "    <tr>\n",
       "      <th>3</th>\n",
       "      <td>6369</td>\n",
       "      <td>37146</td>\n",
       "      <td>2010-04-21</td>\n",
       "      <td>109871</td>\n",
       "      <td>Kurt</td>\n",
       "      <td>I very much enjoyed the stay.  \\r\\nIt's a wond...</td>\n",
       "      <td>{'neg': 0.0, 'neu': 0.636, 'pos': 0.364, 'comp...</td>\n",
       "    </tr>\n",
       "    <tr>\n",
       "      <th>4</th>\n",
       "      <td>6369</td>\n",
       "      <td>38168</td>\n",
       "      <td>2010-04-26</td>\n",
       "      <td>98901</td>\n",
       "      <td>Dennis</td>\n",
       "      <td>Arturo and Simon are polite and friendly hosts...</td>\n",
       "      <td>{'neg': 0.0, 'neu': 0.737, 'pos': 0.263, 'comp...</td>\n",
       "    </tr>\n",
       "  </tbody>\n",
       "</table>\n",
       "</div>"
      ],
      "text/plain": [
       "   listing_id     id        date  reviewer_id reviewer_name  \\\n",
       "0        6369  29428  2010-03-14        84790         Nancy   \n",
       "1        6369  31018  2010-03-23        84338         David   \n",
       "2        6369  34694  2010-04-10        98655        Marion   \n",
       "3        6369  37146  2010-04-21       109871          Kurt   \n",
       "4        6369  38168  2010-04-26        98901        Dennis   \n",
       "\n",
       "                                            comments  \\\n",
       "0  Simon and Arturo have the ultimate location in...   \n",
       "1  Myself and Kristy originally planned on stayin...   \n",
       "2  We had a great time at Arturo and Simon's ! A ...   \n",
       "3  I very much enjoyed the stay.  \\r\\nIt's a wond...   \n",
       "4  Arturo and Simon are polite and friendly hosts...   \n",
       "\n",
       "                                         sentimiento  \n",
       "0  {'neg': 0.0, 'neu': 0.779, 'pos': 0.221, 'comp...  \n",
       "1  {'neg': 0.017, 'neu': 0.609, 'pos': 0.374, 'co...  \n",
       "2  {'neg': 0.0, 'neu': 0.612, 'pos': 0.388, 'comp...  \n",
       "3  {'neg': 0.0, 'neu': 0.636, 'pos': 0.364, 'comp...  \n",
       "4  {'neg': 0.0, 'neu': 0.737, 'pos': 0.263, 'comp...  "
      ]
     },
     "execution_count": 7,
     "metadata": {},
     "output_type": "execute_result"
    }
   ],
   "source": [
    "import pandas as pd\n",
    "import glob\n",
    "\n",
    "# Ruta donde se encuentran los archivos CSV\n",
    "path = r'C:/Users/Pedro Vidales/Desktop/Proyecto-Final_/main/paquetes/*.csv'\n",
    "\n",
    "# Lee todos los archivos CSV y crea un dataframe para cada uno\n",
    "all_files = glob.glob(path)\n",
    "df_list = []\n",
    "for filename in all_files:\n",
    "    df = pd.read_csv(filename, index_col=None, header=0)\n",
    "    df_list.append(df)\n",
    "\n",
    "# Concatena los dataframes en uno solo\n",
    "rev_paquetes = pd.concat(df_list, axis=0, ignore_index=True)\n",
    "\n",
    "# Muestra el resultado\n",
    "rev_paquetes.head()"
   ]
  },
  {
   "cell_type": "code",
   "execution_count": 9,
   "id": "e2df741d",
   "metadata": {},
   "outputs": [],
   "source": [
    "rev_paquetes.to_csv('../madrid/reviews_detailed/rev_paquetes.csv', index=False)"
   ]
  },
  {
   "cell_type": "code",
   "execution_count": null,
   "id": "e8f4ab80",
   "metadata": {},
   "outputs": [],
   "source": []
  }
 ],
 "metadata": {
  "kernelspec": {
   "display_name": "Python 3 (ipykernel)",
   "language": "python",
   "name": "python3"
  },
  "language_info": {
   "codemirror_mode": {
    "name": "ipython",
    "version": 3
   },
   "file_extension": ".py",
   "mimetype": "text/x-python",
   "name": "python",
   "nbconvert_exporter": "python",
   "pygments_lexer": "ipython3",
   "version": "3.9.16"
  }
 },
 "nbformat": 4,
 "nbformat_minor": 5
}
