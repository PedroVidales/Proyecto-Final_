{
 "cells": [
  {
   "cell_type": "code",
   "execution_count": 1,
   "id": "c730e5d8",
   "metadata": {},
   "outputs": [],
   "source": [
    "import pandas as pd\n",
    "import numpy as np \n",
    "import os \n",
    "from googletrans import Translator\n",
    "\n"
   ]
  },
  {
   "cell_type": "code",
   "execution_count": 2,
   "id": "02e4e82d",
   "metadata": {},
   "outputs": [],
   "source": [
    "rev = pd.read_csv('../madrid/reviews_detailed/rev_6p.csv')"
   ]
  },
  {
   "cell_type": "code",
   "execution_count": 3,
   "id": "8f616628",
   "metadata": {},
   "outputs": [
    {
     "data": {
      "text/html": [
       "<div>\n",
       "<style scoped>\n",
       "    .dataframe tbody tr th:only-of-type {\n",
       "        vertical-align: middle;\n",
       "    }\n",
       "\n",
       "    .dataframe tbody tr th {\n",
       "        vertical-align: top;\n",
       "    }\n",
       "\n",
       "    .dataframe thead th {\n",
       "        text-align: right;\n",
       "    }\n",
       "</style>\n",
       "<table border=\"1\" class=\"dataframe\">\n",
       "  <thead>\n",
       "    <tr style=\"text-align: right;\">\n",
       "      <th></th>\n",
       "      <th>listing_id</th>\n",
       "      <th>id</th>\n",
       "      <th>date</th>\n",
       "      <th>reviewer_id</th>\n",
       "      <th>comments</th>\n",
       "      <th>idiomas</th>\n",
       "    </tr>\n",
       "  </thead>\n",
       "  <tbody>\n",
       "    <tr>\n",
       "      <th>0</th>\n",
       "      <td>6369</td>\n",
       "      <td>29428</td>\n",
       "      <td>2010-03-14</td>\n",
       "      <td>84790</td>\n",
       "      <td>Simon and Arturo have the ultimate location in...</td>\n",
       "      <td>en</td>\n",
       "    </tr>\n",
       "    <tr>\n",
       "      <th>1</th>\n",
       "      <td>6369</td>\n",
       "      <td>31018</td>\n",
       "      <td>2010-03-23</td>\n",
       "      <td>84338</td>\n",
       "      <td>Myself and Kristy originally planned on stayin...</td>\n",
       "      <td>en</td>\n",
       "    </tr>\n",
       "    <tr>\n",
       "      <th>2</th>\n",
       "      <td>6369</td>\n",
       "      <td>34694</td>\n",
       "      <td>2010-04-10</td>\n",
       "      <td>98655</td>\n",
       "      <td>We had a great time at Arturo and Simon's ! A ...</td>\n",
       "      <td>en</td>\n",
       "    </tr>\n",
       "    <tr>\n",
       "      <th>3</th>\n",
       "      <td>6369</td>\n",
       "      <td>37146</td>\n",
       "      <td>2010-04-21</td>\n",
       "      <td>109871</td>\n",
       "      <td>I very much enjoyed the stay.  \\r\\nIt's a wond...</td>\n",
       "      <td>en</td>\n",
       "    </tr>\n",
       "    <tr>\n",
       "      <th>4</th>\n",
       "      <td>6369</td>\n",
       "      <td>38168</td>\n",
       "      <td>2010-04-26</td>\n",
       "      <td>98901</td>\n",
       "      <td>Arturo and Simon are polite and friendly hosts...</td>\n",
       "      <td>en</td>\n",
       "    </tr>\n",
       "    <tr>\n",
       "      <th>...</th>\n",
       "      <td>...</td>\n",
       "      <td>...</td>\n",
       "      <td>...</td>\n",
       "      <td>...</td>\n",
       "      <td>...</td>\n",
       "      <td>...</td>\n",
       "    </tr>\n",
       "    <tr>\n",
       "      <th>195</th>\n",
       "      <td>26825</td>\n",
       "      <td>31915907</td>\n",
       "      <td>2015-05-11</td>\n",
       "      <td>27329950</td>\n",
       "      <td>De reden dat ik er was, was bijscholing. Het h...</td>\n",
       "      <td>nl</td>\n",
       "    </tr>\n",
       "    <tr>\n",
       "      <th>196</th>\n",
       "      <td>26825</td>\n",
       "      <td>32637136</td>\n",
       "      <td>2015-05-19</td>\n",
       "      <td>9847981</td>\n",
       "      <td>Augustina is a great host and her flat is an a...</td>\n",
       "      <td>en</td>\n",
       "    </tr>\n",
       "    <tr>\n",
       "      <th>197</th>\n",
       "      <td>26825</td>\n",
       "      <td>33294739</td>\n",
       "      <td>2015-05-26</td>\n",
       "      <td>32708453</td>\n",
       "      <td>Pasé una semana en el apartamento de Agustina,...</td>\n",
       "      <td>es</td>\n",
       "    </tr>\n",
       "    <tr>\n",
       "      <th>198</th>\n",
       "      <td>26825</td>\n",
       "      <td>36345086</td>\n",
       "      <td>2015-06-27</td>\n",
       "      <td>19619206</td>\n",
       "      <td>Agustina fue muy amable y una persona muy cono...</td>\n",
       "      <td>es</td>\n",
       "    </tr>\n",
       "    <tr>\n",
       "      <th>199</th>\n",
       "      <td>26825</td>\n",
       "      <td>37016413</td>\n",
       "      <td>2015-07-03</td>\n",
       "      <td>25076323</td>\n",
       "      <td>Agustina has been a very nice host helping me ...</td>\n",
       "      <td>en</td>\n",
       "    </tr>\n",
       "  </tbody>\n",
       "</table>\n",
       "<p>200 rows × 6 columns</p>\n",
       "</div>"
      ],
      "text/plain": [
       "     listing_id        id        date  reviewer_id  \\\n",
       "0          6369     29428  2010-03-14        84790   \n",
       "1          6369     31018  2010-03-23        84338   \n",
       "2          6369     34694  2010-04-10        98655   \n",
       "3          6369     37146  2010-04-21       109871   \n",
       "4          6369     38168  2010-04-26        98901   \n",
       "..          ...       ...         ...          ...   \n",
       "195       26825  31915907  2015-05-11     27329950   \n",
       "196       26825  32637136  2015-05-19      9847981   \n",
       "197       26825  33294739  2015-05-26     32708453   \n",
       "198       26825  36345086  2015-06-27     19619206   \n",
       "199       26825  37016413  2015-07-03     25076323   \n",
       "\n",
       "                                              comments idiomas  \n",
       "0    Simon and Arturo have the ultimate location in...      en  \n",
       "1    Myself and Kristy originally planned on stayin...      en  \n",
       "2    We had a great time at Arturo and Simon's ! A ...      en  \n",
       "3    I very much enjoyed the stay.  \\r\\nIt's a wond...      en  \n",
       "4    Arturo and Simon are polite and friendly hosts...      en  \n",
       "..                                                 ...     ...  \n",
       "195  De reden dat ik er was, was bijscholing. Het h...      nl  \n",
       "196  Augustina is a great host and her flat is an a...      en  \n",
       "197  Pasé una semana en el apartamento de Agustina,...      es  \n",
       "198  Agustina fue muy amable y una persona muy cono...      es  \n",
       "199  Agustina has been a very nice host helping me ...      en  \n",
       "\n",
       "[200 rows x 6 columns]"
      ]
     },
     "execution_count": 3,
     "metadata": {},
     "output_type": "execute_result"
    }
   ],
   "source": [
    "rev.head(200)"
   ]
  },
  {
   "cell_type": "code",
   "execution_count": 4,
   "id": "12320260",
   "metadata": {},
   "outputs": [
    {
     "data": {
      "text/plain": [
       "(679118, 6)"
      ]
     },
     "execution_count": 4,
     "metadata": {},
     "output_type": "execute_result"
    }
   ],
   "source": [
    "rev.shape"
   ]
  },
  {
   "cell_type": "code",
   "execution_count": 5,
   "id": "5fa48512",
   "metadata": {},
   "outputs": [
    {
     "data": {
      "text/plain": [
       "array(['en', 'fr', 'es', 'pt', 'de', 'nl'], dtype=object)"
      ]
     },
     "execution_count": 5,
     "metadata": {},
     "output_type": "execute_result"
    }
   ],
   "source": [
    "rev.idiomas.unique()"
   ]
  },
  {
   "cell_type": "code",
   "execution_count": 6,
   "id": "d3448e28",
   "metadata": {},
   "outputs": [
    {
     "data": {
      "text/plain": [
       "'De reden dat ik er was, was bijscholing. Het huis van Augustina is héérlijk, want het is schoon, stil, ligt niet te ver uit het centrum en zij laat je gewoon helemaal met rust! Goed voor de studie. En minder goed, als je komt voor het gemoedelijke contact en veel gesprekken en gezellig tafelen. Zij spreekt beter engels dan ik spaans. Bravo! Bijzondere vrouw, jammer dat mijn spaans nog zo slecht is. Belangrijk om te weten: in de keuken mag niet gekookt worden. Alleen een broodje smeren mag. Eten mag je alleen in de keuken doen en niet in je kamer.'"
      ]
     },
     "execution_count": 6,
     "metadata": {},
     "output_type": "execute_result"
    }
   ],
   "source": [
    "rev.comments[195]"
   ]
  },
  {
   "cell_type": "code",
   "execution_count": 7,
   "id": "bf7a22d7",
   "metadata": {},
   "outputs": [],
   "source": [
    "import re\n"
   ]
  },
  {
   "cell_type": "code",
   "execution_count": 8,
   "id": "c9d7f0b0",
   "metadata": {},
   "outputs": [],
   "source": [
    "\n",
    "# Carga el archivo CSV en un DataFrame de pandas\n",
    "rev = pd.read_csv('../madrid/reviews_detailed/rev_6p.csv')\n",
    "\n",
    "# Crea una lista de expresiones regulares para eliminar los caracteres no deseados en cada idioma\n",
    "regex_list = [\n",
    "    r'[^\\x00-\\x7F]', # Caracteres no ASCII en inglés\n",
    "    r'[^\\w\\s]', # Caracteres no alfanuméricos en español\n",
    "    r'[^\\w\\s]', # Caracteres no alfanuméricos en francés\n",
    "    r'[^\\w\\s]', # Caracteres no alfanuméricos en italiano\n",
    "    r'[^\\w\\s]', # Caracteres no alfanuméricos en portugués\n",
    "    r'[^\\w\\s]', # Caracteres no alfanuméricos en alemán\n",
    "]\n",
    "\n",
    "# Crea una lista de patrones de sustitución para reemplazar caracteres no deseados en cada idioma\n",
    "replace_list = [\n",
    "    '', # Reemplaza caracteres no ASCII en inglés\n",
    "    '', # Reemplaza caracteres no alfanuméricos en español\n",
    "    '', # Reemplaza caracteres no alfanuméricos en francés\n",
    "    '', # Reemplaza caracteres no alfanuméricos en italiano\n",
    "    '', # Reemplaza caracteres no alfanuméricos en portugués\n",
    "    '', # Reemplaza caracteres no alfanuméricos en alemán\n",
    "]\n",
    "\n",
    "# Limpia los comentarios para cada idioma en la columna \"comments\" del DataFrame \"rev\"\n",
    "for i, row in rev.iterrows():\n",
    "    comment = row['comments']\n",
    "    if type(comment) == str:  # Asegura que la columna no esté vacía\n",
    "        comment = comment.lower()  # Convierte a minúsculas\n",
    "        comment = re.sub(regex_list[0], replace_list[0], comment)  # Elimina caracteres no ASCII\n",
    "        rev.at[i, 'comments'] = comment\n",
    "\n"
   ]
  },
  {
   "cell_type": "code",
   "execution_count": 9,
   "id": "da0d0e28",
   "metadata": {},
   "outputs": [],
   "source": [
    "rev.to_csv('../madrid/reviews_detailed/rev_caract.csv', index=False)\n"
   ]
  },
  {
   "cell_type": "code",
   "execution_count": 10,
   "id": "27c9a432",
   "metadata": {},
   "outputs": [],
   "source": [
    "rev = pd.read_csv('../madrid/reviews_detailed/rev_caract.csv')"
   ]
  },
  {
   "cell_type": "code",
   "execution_count": 11,
   "id": "85c2b40f",
   "metadata": {},
   "outputs": [],
   "source": [
    "import spacy\n",
    "import pandas as pd\n",
    "\n",
    "nlp_en = spacy.load('en_core_web_sm')\n",
    "nlp_fr = spacy.load('fr_core_news_sm')\n",
    "nlp_es = spacy.load('es_core_news_sm')\n",
    "nlp_pt = spacy.load('pt_core_news_sm')\n",
    "nlp_de = spacy.load('de_core_news_sm')\n",
    "nlp_nl = spacy.load('nl_core_news_sm')\n",
    "\n",
    "def get_keywords(text, nlp):\n",
    "    doc = nlp(text)\n",
    "    keywords = [token.lemma_ for token in doc if not token.is_stop and not token.is_punct and token.pos_ in ['NOUN', 'VERB', 'ADJ']]\n",
    "    return keywords\n",
    "\n",
    "def extract_keywords(row):\n",
    "    idioma = row['idiomas']\n",
    "    text = row['comments']\n",
    "    \n",
    "    if idioma == 'en':\n",
    "        nlp = nlp_en\n",
    "    elif idioma == 'fr':\n",
    "        nlp = nlp_fr\n",
    "    elif idioma == 'es':\n",
    "        nlp = nlp_es\n",
    "    elif idioma == 'pt':\n",
    "        nlp = nlp_pt\n",
    "    elif idioma == 'de':\n",
    "        nlp = nlp_de\n",
    "    elif idioma == 'nl':\n",
    "        nlp = nlp_nl\n",
    "    else:\n",
    "        return ''\n",
    "    \n",
    "    keywords = get_keywords(text, nlp)\n",
    "    return ' '.join(keywords)\n",
    "\n",
    "\n",
    "# Aplicar la función extract_keywords() a las primeras 100 filas de su dataframe\n",
    "rev['comments_short'] = rev.apply(extract_keywords, axis=1)"
   ]
  },
  {
   "cell_type": "code",
   "execution_count": 12,
   "id": "8d7e1280",
   "metadata": {},
   "outputs": [
    {
     "data": {
      "text/html": [
       "<div>\n",
       "<style scoped>\n",
       "    .dataframe tbody tr th:only-of-type {\n",
       "        vertical-align: middle;\n",
       "    }\n",
       "\n",
       "    .dataframe tbody tr th {\n",
       "        vertical-align: top;\n",
       "    }\n",
       "\n",
       "    .dataframe thead th {\n",
       "        text-align: right;\n",
       "    }\n",
       "</style>\n",
       "<table border=\"1\" class=\"dataframe\">\n",
       "  <thead>\n",
       "    <tr style=\"text-align: right;\">\n",
       "      <th></th>\n",
       "      <th>listing_id</th>\n",
       "      <th>id</th>\n",
       "      <th>date</th>\n",
       "      <th>reviewer_id</th>\n",
       "      <th>comments</th>\n",
       "      <th>idiomas</th>\n",
       "      <th>comments_short</th>\n",
       "    </tr>\n",
       "  </thead>\n",
       "  <tbody>\n",
       "    <tr>\n",
       "      <th>0</th>\n",
       "      <td>6369</td>\n",
       "      <td>29428</td>\n",
       "      <td>2010-03-14</td>\n",
       "      <td>84790</td>\n",
       "      <td>simon and arturo have the ultimate location in...</td>\n",
       "      <td>en</td>\n",
       "      <td>arturo ultimate location step bus line want vi...</td>\n",
       "    </tr>\n",
       "    <tr>\n",
       "      <th>1</th>\n",
       "      <td>6369</td>\n",
       "      <td>31018</td>\n",
       "      <td>2010-03-23</td>\n",
       "      <td>84338</td>\n",
       "      <td>myself and kristy originally planned on stayin...</td>\n",
       "      <td>en</td>\n",
       "      <td>plan stay arturo week plan change arturo open ...</td>\n",
       "    </tr>\n",
       "    <tr>\n",
       "      <th>2</th>\n",
       "      <td>6369</td>\n",
       "      <td>34694</td>\n",
       "      <td>2010-04-10</td>\n",
       "      <td>98655</td>\n",
       "      <td>we had a great time at arturo and simon's ! a ...</td>\n",
       "      <td>en</td>\n",
       "      <td>great time arturo cosy apartment wonderful ter...</td>\n",
       "    </tr>\n",
       "    <tr>\n",
       "      <th>3</th>\n",
       "      <td>6369</td>\n",
       "      <td>37146</td>\n",
       "      <td>2010-04-21</td>\n",
       "      <td>109871</td>\n",
       "      <td>i very much enjoyed the stay.  \\r\\nit's a wond...</td>\n",
       "      <td>en</td>\n",
       "      <td>enjoy stay wonderful room bath great apartment...</td>\n",
       "    </tr>\n",
       "    <tr>\n",
       "      <th>4</th>\n",
       "      <td>6369</td>\n",
       "      <td>38168</td>\n",
       "      <td>2010-04-26</td>\n",
       "      <td>98901</td>\n",
       "      <td>arturo and simon are polite and friendly hosts...</td>\n",
       "      <td>en</td>\n",
       "      <td>polite friendly host provide pleasant convenie...</td>\n",
       "    </tr>\n",
       "  </tbody>\n",
       "</table>\n",
       "</div>"
      ],
      "text/plain": [
       "   listing_id     id        date  reviewer_id  \\\n",
       "0        6369  29428  2010-03-14        84790   \n",
       "1        6369  31018  2010-03-23        84338   \n",
       "2        6369  34694  2010-04-10        98655   \n",
       "3        6369  37146  2010-04-21       109871   \n",
       "4        6369  38168  2010-04-26        98901   \n",
       "\n",
       "                                            comments idiomas  \\\n",
       "0  simon and arturo have the ultimate location in...      en   \n",
       "1  myself and kristy originally planned on stayin...      en   \n",
       "2  we had a great time at arturo and simon's ! a ...      en   \n",
       "3  i very much enjoyed the stay.  \\r\\nit's a wond...      en   \n",
       "4  arturo and simon are polite and friendly hosts...      en   \n",
       "\n",
       "                                      comments_short  \n",
       "0  arturo ultimate location step bus line want vi...  \n",
       "1  plan stay arturo week plan change arturo open ...  \n",
       "2  great time arturo cosy apartment wonderful ter...  \n",
       "3  enjoy stay wonderful room bath great apartment...  \n",
       "4  polite friendly host provide pleasant convenie...  "
      ]
     },
     "execution_count": 12,
     "metadata": {},
     "output_type": "execute_result"
    }
   ],
   "source": [
    "rev.head()"
   ]
  },
  {
   "cell_type": "code",
   "execution_count": 19,
   "id": "c1fd277c",
   "metadata": {},
   "outputs": [],
   "source": [
    "rev.to_csv('../madrid/listings_detailed/comments_short.csv', index=False)"
   ]
  },
  {
   "cell_type": "code",
   "execution_count": null,
   "id": "da87559e",
   "metadata": {},
   "outputs": [],
   "source": []
  },
  {
   "cell_type": "code",
   "execution_count": null,
   "id": "55ec38db",
   "metadata": {},
   "outputs": [],
   "source": []
  },
  {
   "cell_type": "code",
   "execution_count": null,
   "id": "6cd331d8",
   "metadata": {},
   "outputs": [],
   "source": []
  },
  {
   "cell_type": "code",
   "execution_count": null,
   "id": "d8d728be",
   "metadata": {},
   "outputs": [],
   "source": []
  },
  {
   "cell_type": "code",
   "execution_count": null,
   "id": "fa6797e5",
   "metadata": {},
   "outputs": [],
   "source": []
  },
  {
   "cell_type": "code",
   "execution_count": null,
   "id": "59ef8744",
   "metadata": {},
   "outputs": [],
   "source": []
  },
  {
   "cell_type": "code",
   "execution_count": null,
   "id": "47048b50",
   "metadata": {},
   "outputs": [],
   "source": []
  },
  {
   "cell_type": "code",
   "execution_count": null,
   "id": "f184740f",
   "metadata": {},
   "outputs": [],
   "source": []
  }
 ],
 "metadata": {
  "kernelspec": {
   "display_name": "Python 3 (ipykernel)",
   "language": "python",
   "name": "python3"
  },
  "language_info": {
   "codemirror_mode": {
    "name": "ipython",
    "version": 3
   },
   "file_extension": ".py",
   "mimetype": "text/x-python",
   "name": "python",
   "nbconvert_exporter": "python",
   "pygments_lexer": "ipython3",
   "version": "3.9.16"
  }
 },
 "nbformat": 4,
 "nbformat_minor": 5
}
