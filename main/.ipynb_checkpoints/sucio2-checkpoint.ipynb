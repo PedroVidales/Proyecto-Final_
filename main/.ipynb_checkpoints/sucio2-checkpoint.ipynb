{
 "cells": [
  {
   "cell_type": "code",
   "execution_count": 13,
   "id": "20719214",
   "metadata": {},
   "outputs": [],
   "source": [
    "import pandas as pd\n",
    "import numpy as np \n",
    "import os \n",
    "from googletrans import Translator\n",
    "from vaderSentiment.vaderSentiment import SentimentIntensityAnalyzer\n",
    "import warnings\n",
    "warnings.filterwarnings('ignore')"
   ]
  },
  {
   "cell_type": "code",
   "execution_count": 2,
   "id": "5984b6ed",
   "metadata": {},
   "outputs": [],
   "source": [
    "rev = pd.read_csv('../madrid/reviews_detailed/comments_short.csv')"
   ]
  },
  {
   "cell_type": "code",
   "execution_count": 3,
   "id": "b6ed3edf",
   "metadata": {},
   "outputs": [
    {
     "data": {
      "text/html": [
       "<div>\n",
       "<style scoped>\n",
       "    .dataframe tbody tr th:only-of-type {\n",
       "        vertical-align: middle;\n",
       "    }\n",
       "\n",
       "    .dataframe tbody tr th {\n",
       "        vertical-align: top;\n",
       "    }\n",
       "\n",
       "    .dataframe thead th {\n",
       "        text-align: right;\n",
       "    }\n",
       "</style>\n",
       "<table border=\"1\" class=\"dataframe\">\n",
       "  <thead>\n",
       "    <tr style=\"text-align: right;\">\n",
       "      <th></th>\n",
       "      <th>listing_id</th>\n",
       "      <th>id</th>\n",
       "      <th>date</th>\n",
       "      <th>reviewer_id</th>\n",
       "      <th>comments</th>\n",
       "      <th>idiomas</th>\n",
       "      <th>comments_short</th>\n",
       "    </tr>\n",
       "  </thead>\n",
       "  <tbody>\n",
       "    <tr>\n",
       "      <th>0</th>\n",
       "      <td>6369</td>\n",
       "      <td>29428</td>\n",
       "      <td>2010-03-14</td>\n",
       "      <td>84790</td>\n",
       "      <td>simon and arturo have the ultimate location in...</td>\n",
       "      <td>en</td>\n",
       "      <td>arturo ultimate location step bus line want vi...</td>\n",
       "    </tr>\n",
       "    <tr>\n",
       "      <th>1</th>\n",
       "      <td>6369</td>\n",
       "      <td>31018</td>\n",
       "      <td>2010-03-23</td>\n",
       "      <td>84338</td>\n",
       "      <td>myself and kristy originally planned on stayin...</td>\n",
       "      <td>en</td>\n",
       "      <td>plan stay arturo week plan change arturo open ...</td>\n",
       "    </tr>\n",
       "    <tr>\n",
       "      <th>2</th>\n",
       "      <td>6369</td>\n",
       "      <td>34694</td>\n",
       "      <td>2010-04-10</td>\n",
       "      <td>98655</td>\n",
       "      <td>we had a great time at arturo and simon's ! a ...</td>\n",
       "      <td>en</td>\n",
       "      <td>great time arturo cosy apartment wonderful ter...</td>\n",
       "    </tr>\n",
       "    <tr>\n",
       "      <th>3</th>\n",
       "      <td>6369</td>\n",
       "      <td>37146</td>\n",
       "      <td>2010-04-21</td>\n",
       "      <td>109871</td>\n",
       "      <td>i very much enjoyed the stay.  \\r\\nit's a wond...</td>\n",
       "      <td>en</td>\n",
       "      <td>enjoy stay wonderful room bath great apartment...</td>\n",
       "    </tr>\n",
       "    <tr>\n",
       "      <th>4</th>\n",
       "      <td>6369</td>\n",
       "      <td>38168</td>\n",
       "      <td>2010-04-26</td>\n",
       "      <td>98901</td>\n",
       "      <td>arturo and simon are polite and friendly hosts...</td>\n",
       "      <td>en</td>\n",
       "      <td>polite friendly host provide pleasant convenie...</td>\n",
       "    </tr>\n",
       "    <tr>\n",
       "      <th>...</th>\n",
       "      <td>...</td>\n",
       "      <td>...</td>\n",
       "      <td>...</td>\n",
       "      <td>...</td>\n",
       "      <td>...</td>\n",
       "      <td>...</td>\n",
       "      <td>...</td>\n",
       "    </tr>\n",
       "    <tr>\n",
       "      <th>95</th>\n",
       "      <td>21853</td>\n",
       "      <td>273473012</td>\n",
       "      <td>2018-06-06</td>\n",
       "      <td>21220489</td>\n",
       "      <td>je recommande le logement de abdel. tout d'abo...</td>\n",
       "      <td>fr</td>\n",
       "      <td>recommander logement abdel trs attentionn voul...</td>\n",
       "    </tr>\n",
       "    <tr>\n",
       "      <th>96</th>\n",
       "      <td>21853</td>\n",
       "      <td>277764607</td>\n",
       "      <td>2018-06-17</td>\n",
       "      <td>182841821</td>\n",
       "      <td>muy buen alojamiento!</td>\n",
       "      <td>es</td>\n",
       "      <td>alojamiento</td>\n",
       "    </tr>\n",
       "    <tr>\n",
       "      <th>97</th>\n",
       "      <td>21853</td>\n",
       "      <td>290844505</td>\n",
       "      <td>2018-07-15</td>\n",
       "      <td>49900000</td>\n",
       "      <td>abdel es muy buen anfitrin, est atento y dispo...</td>\n",
       "      <td>es</td>\n",
       "      <td>abdel anfitrin atento disponible cosa necesit ...</td>\n",
       "    </tr>\n",
       "    <tr>\n",
       "      <th>98</th>\n",
       "      <td>24805</td>\n",
       "      <td>23330835</td>\n",
       "      <td>2014-11-29</td>\n",
       "      <td>9091591</td>\n",
       "      <td>during my stay, i enjoyed all around and had a...</td>\n",
       "      <td>en</td>\n",
       "      <td>stay enjoy fun area location apartment fantast...</td>\n",
       "    </tr>\n",
       "    <tr>\n",
       "      <th>99</th>\n",
       "      <td>24805</td>\n",
       "      <td>166396094</td>\n",
       "      <td>2017-07-03</td>\n",
       "      <td>2704944</td>\n",
       "      <td>its very nice apartament, close to gran via, z...</td>\n",
       "      <td>en</td>\n",
       "      <td>nice apartament close gran subway recommend</td>\n",
       "    </tr>\n",
       "  </tbody>\n",
       "</table>\n",
       "<p>100 rows × 7 columns</p>\n",
       "</div>"
      ],
      "text/plain": [
       "    listing_id         id        date  reviewer_id  \\\n",
       "0         6369      29428  2010-03-14        84790   \n",
       "1         6369      31018  2010-03-23        84338   \n",
       "2         6369      34694  2010-04-10        98655   \n",
       "3         6369      37146  2010-04-21       109871   \n",
       "4         6369      38168  2010-04-26        98901   \n",
       "..         ...        ...         ...          ...   \n",
       "95       21853  273473012  2018-06-06     21220489   \n",
       "96       21853  277764607  2018-06-17    182841821   \n",
       "97       21853  290844505  2018-07-15     49900000   \n",
       "98       24805   23330835  2014-11-29      9091591   \n",
       "99       24805  166396094  2017-07-03      2704944   \n",
       "\n",
       "                                             comments idiomas  \\\n",
       "0   simon and arturo have the ultimate location in...      en   \n",
       "1   myself and kristy originally planned on stayin...      en   \n",
       "2   we had a great time at arturo and simon's ! a ...      en   \n",
       "3   i very much enjoyed the stay.  \\r\\nit's a wond...      en   \n",
       "4   arturo and simon are polite and friendly hosts...      en   \n",
       "..                                                ...     ...   \n",
       "95  je recommande le logement de abdel. tout d'abo...      fr   \n",
       "96                             muy buen alojamiento!       es   \n",
       "97  abdel es muy buen anfitrin, est atento y dispo...      es   \n",
       "98  during my stay, i enjoyed all around and had a...      en   \n",
       "99  its very nice apartament, close to gran via, z...      en   \n",
       "\n",
       "                                       comments_short  \n",
       "0   arturo ultimate location step bus line want vi...  \n",
       "1   plan stay arturo week plan change arturo open ...  \n",
       "2   great time arturo cosy apartment wonderful ter...  \n",
       "3   enjoy stay wonderful room bath great apartment...  \n",
       "4   polite friendly host provide pleasant convenie...  \n",
       "..                                                ...  \n",
       "95  recommander logement abdel trs attentionn voul...  \n",
       "96                                        alojamiento  \n",
       "97  abdel anfitrin atento disponible cosa necesit ...  \n",
       "98  stay enjoy fun area location apartment fantast...  \n",
       "99        nice apartament close gran subway recommend  \n",
       "\n",
       "[100 rows x 7 columns]"
      ]
     },
     "execution_count": 3,
     "metadata": {},
     "output_type": "execute_result"
    }
   ],
   "source": [
    "rev.head(100)"
   ]
  },
  {
   "cell_type": "code",
   "execution_count": 4,
   "id": "40bdd0a7",
   "metadata": {},
   "outputs": [],
   "source": [
    "rev = rev.dropna()"
   ]
  },
  {
   "cell_type": "code",
   "execution_count": 14,
   "id": "835a95e1",
   "metadata": {},
   "outputs": [],
   "source": [
    "rev.date=pd.to_datetime(rev.date, format='%Y-%m-%d')"
   ]
  },
  {
   "cell_type": "code",
   "execution_count": 19,
   "id": "d7f08e1a",
   "metadata": {},
   "outputs": [
    {
     "name": "stdout",
     "output_type": "stream",
     "text": [
      "{'neg': 0.0, 'neu': 1.0, 'pos': 0.0, 'compound': 0.0}\n"
     ]
    }
   ],
   "source": [
    "sia = SentimentIntensityAnalyzer()\n",
    "\n",
    "# Obtener el primer comentario de la columna \"comments\"\n",
    "primer_comentario = rev[\"comments_short\"].iloc[96]\n",
    "\n",
    "# Analizar el sentimiento del comentario utilizando VADER\n",
    "sentimiento = sia.polarity_scores(primer_comentario)\n",
    "\n",
    "# Imprimir el resultado\n",
    "print(sentimiento)"
   ]
  },
  {
   "cell_type": "code",
   "execution_count": 20,
   "id": "a7511503",
   "metadata": {},
   "outputs": [],
   "source": [
    "import os.path\n",
    "\n",
    "# Dividir los datos en paquetes de 1000 filas\n",
    "tamano_paquete = 1000\n",
    "num_paquete = 0\n",
    "for inicio in range(0, len(rev), tamano_paquete):\n",
    "    fin = inicio + tamano_paquete\n",
    "    paquete = rev.iloc[inicio:fin]\n",
    "\n",
    "    # Analizar el sentimiento de cada comentario en el paquete\n",
    "    sia = SentimentIntensityAnalyzer()\n",
    "    paquete['sentimiento'] = paquete['comments'].apply(lambda comentario: sia.polarity_scores(comentario))\n",
    "\n",
    "    # Guardar el paquete en un archivo separado\n",
    "    nombre_archivo = f'paquete_{num_paquete}.csv'\n",
    "    if not os.path.exists(nombre_archivo):\n",
    "        paquete.to_csv(nombre_archivo, index=False)\n",
    "    else:\n",
    "        paquete.to_csv(nombre_archivo, mode='a', header=False, index=False)\n",
    "    num_paquete += 1"
   ]
  },
  {
   "cell_type": "code",
   "execution_count": 21,
   "id": "5eb0be18",
   "metadata": {},
   "outputs": [
    {
     "data": {
      "text/html": [
       "<div>\n",
       "<style scoped>\n",
       "    .dataframe tbody tr th:only-of-type {\n",
       "        vertical-align: middle;\n",
       "    }\n",
       "\n",
       "    .dataframe tbody tr th {\n",
       "        vertical-align: top;\n",
       "    }\n",
       "\n",
       "    .dataframe thead th {\n",
       "        text-align: right;\n",
       "    }\n",
       "</style>\n",
       "<table border=\"1\" class=\"dataframe\">\n",
       "  <thead>\n",
       "    <tr style=\"text-align: right;\">\n",
       "      <th></th>\n",
       "      <th>listing_id</th>\n",
       "      <th>id</th>\n",
       "      <th>date</th>\n",
       "      <th>reviewer_id</th>\n",
       "      <th>comments</th>\n",
       "      <th>idiomas</th>\n",
       "      <th>comments_short</th>\n",
       "      <th>sentimiento</th>\n",
       "    </tr>\n",
       "  </thead>\n",
       "  <tbody>\n",
       "    <tr>\n",
       "      <th>0</th>\n",
       "      <td>6369</td>\n",
       "      <td>29428</td>\n",
       "      <td>2010-03-14</td>\n",
       "      <td>84790</td>\n",
       "      <td>simon and arturo have the ultimate location in...</td>\n",
       "      <td>en</td>\n",
       "      <td>arturo ultimate location step bus line want vi...</td>\n",
       "      <td>{'neg': 0.0, 'neu': 0.779, 'pos': 0.221, 'comp...</td>\n",
       "    </tr>\n",
       "    <tr>\n",
       "      <th>1</th>\n",
       "      <td>6369</td>\n",
       "      <td>31018</td>\n",
       "      <td>2010-03-23</td>\n",
       "      <td>84338</td>\n",
       "      <td>myself and kristy originally planned on stayin...</td>\n",
       "      <td>en</td>\n",
       "      <td>plan stay arturo week plan change arturo open ...</td>\n",
       "      <td>{'neg': 0.017, 'neu': 0.609, 'pos': 0.374, 'co...</td>\n",
       "    </tr>\n",
       "    <tr>\n",
       "      <th>2</th>\n",
       "      <td>6369</td>\n",
       "      <td>34694</td>\n",
       "      <td>2010-04-10</td>\n",
       "      <td>98655</td>\n",
       "      <td>we had a great time at arturo and simon's ! a ...</td>\n",
       "      <td>en</td>\n",
       "      <td>great time arturo cosy apartment wonderful ter...</td>\n",
       "      <td>{'neg': 0.0, 'neu': 0.612, 'pos': 0.388, 'comp...</td>\n",
       "    </tr>\n",
       "    <tr>\n",
       "      <th>3</th>\n",
       "      <td>6369</td>\n",
       "      <td>37146</td>\n",
       "      <td>2010-04-21</td>\n",
       "      <td>109871</td>\n",
       "      <td>i very much enjoyed the stay.  \\r\\nit's a wond...</td>\n",
       "      <td>en</td>\n",
       "      <td>enjoy stay wonderful room bath great apartment...</td>\n",
       "      <td>{'neg': 0.0, 'neu': 0.636, 'pos': 0.364, 'comp...</td>\n",
       "    </tr>\n",
       "    <tr>\n",
       "      <th>4</th>\n",
       "      <td>6369</td>\n",
       "      <td>38168</td>\n",
       "      <td>2010-04-26</td>\n",
       "      <td>98901</td>\n",
       "      <td>arturo and simon are polite and friendly hosts...</td>\n",
       "      <td>en</td>\n",
       "      <td>polite friendly host provide pleasant convenie...</td>\n",
       "      <td>{'neg': 0.0, 'neu': 0.737, 'pos': 0.263, 'comp...</td>\n",
       "    </tr>\n",
       "  </tbody>\n",
       "</table>\n",
       "</div>"
      ],
      "text/plain": [
       "   listing_id     id        date  reviewer_id  \\\n",
       "0        6369  29428  2010-03-14        84790   \n",
       "1        6369  31018  2010-03-23        84338   \n",
       "2        6369  34694  2010-04-10        98655   \n",
       "3        6369  37146  2010-04-21       109871   \n",
       "4        6369  38168  2010-04-26        98901   \n",
       "\n",
       "                                            comments idiomas  \\\n",
       "0  simon and arturo have the ultimate location in...      en   \n",
       "1  myself and kristy originally planned on stayin...      en   \n",
       "2  we had a great time at arturo and simon's ! a ...      en   \n",
       "3  i very much enjoyed the stay.  \\r\\nit's a wond...      en   \n",
       "4  arturo and simon are polite and friendly hosts...      en   \n",
       "\n",
       "                                      comments_short  \\\n",
       "0  arturo ultimate location step bus line want vi...   \n",
       "1  plan stay arturo week plan change arturo open ...   \n",
       "2  great time arturo cosy apartment wonderful ter...   \n",
       "3  enjoy stay wonderful room bath great apartment...   \n",
       "4  polite friendly host provide pleasant convenie...   \n",
       "\n",
       "                                         sentimiento  \n",
       "0  {'neg': 0.0, 'neu': 0.779, 'pos': 0.221, 'comp...  \n",
       "1  {'neg': 0.017, 'neu': 0.609, 'pos': 0.374, 'co...  \n",
       "2  {'neg': 0.0, 'neu': 0.612, 'pos': 0.388, 'comp...  \n",
       "3  {'neg': 0.0, 'neu': 0.636, 'pos': 0.364, 'comp...  \n",
       "4  {'neg': 0.0, 'neu': 0.737, 'pos': 0.263, 'comp...  "
      ]
     },
     "execution_count": 21,
     "metadata": {},
     "output_type": "execute_result"
    }
   ],
   "source": [
    "import pandas as pd\n",
    "import glob\n",
    "\n",
    "# Ruta donde se encuentran los archivos CSV\n",
    "path = r'C:/Users/Pedro Vidales/Desktop/Proyecto-Final_/main/paquetes2/*.csv'\n",
    "\n",
    "# Lee todos los archivos CSV y crea un dataframe para cada uno\n",
    "all_files = glob.glob(path)\n",
    "df_list = []\n",
    "for filename in all_files:\n",
    "    df = pd.read_csv(filename, index_col=None, header=0)\n",
    "    df_list.append(df)\n",
    "\n",
    "# Concatena los dataframes en uno solo\n",
    "rev_paquetes2 = pd.concat(df_list, axis=0, ignore_index=True)\n",
    "\n",
    "# Muestra el resultado\n",
    "rev_paquetes2.head()"
   ]
  },
  {
   "cell_type": "code",
   "execution_count": 22,
   "id": "1668492d",
   "metadata": {},
   "outputs": [],
   "source": [
    "import json\n",
    "def parse_sentimientos(sentimiento):\n",
    "    return json.loads(sentimiento.replace(\"'\", \"\\\"\"))\n",
    "\n",
    "# Convertimos los datos en formato JSON a un diccionario de Python\n",
    "rev_paquetes2['sentimiento_dict'] = rev_paquetes2['sentimiento'].apply(parse_sentimientos)"
   ]
  },
  {
   "cell_type": "code",
   "execution_count": 24,
   "id": "1d864ef2",
   "metadata": {},
   "outputs": [],
   "source": [
    "# Creamos cuatro columnas nuevas y extraemos los valores correspondientes a cada clave en cada fila\n",
    "rev_paquetes2['neg'] = rev_paquetes2['sentimiento_dict'].apply(lambda x: x['neg'])\n",
    "rev_paquetes2['neu'] = rev_paquetes2['sentimiento_dict'].apply(lambda x: x['neu'])\n",
    "rev_paquetes2['pos'] = rev_paquetes2['sentimiento_dict'].apply(lambda x: x['pos'])\n",
    "rev_paquetes2['compound'] = rev_paquetes2['sentimiento_dict'].apply(lambda x: x['compound'])\n"
   ]
  },
  {
   "cell_type": "code",
   "execution_count": 26,
   "id": "e29ba017",
   "metadata": {},
   "outputs": [],
   "source": [
    "rev = rev_paquetes2.drop(['sentimiento', 'sentimiento_dict'], axis=1)"
   ]
  },
  {
   "cell_type": "code",
   "execution_count": 2,
   "id": "8fb985a4",
   "metadata": {},
   "outputs": [
    {
     "ename": "NameError",
     "evalue": "name 'rev' is not defined",
     "output_type": "error",
     "traceback": [
      "\u001b[1;31m---------------------------------------------------------------------------\u001b[0m",
      "\u001b[1;31mNameError\u001b[0m                                 Traceback (most recent call last)",
      "Cell \u001b[1;32mIn[2], line 1\u001b[0m\n\u001b[1;32m----> 1\u001b[0m \u001b[43mrev\u001b[49m[rev[\u001b[38;5;124m'\u001b[39m\u001b[38;5;124mneg\u001b[39m\u001b[38;5;124m'\u001b[39m] \u001b[38;5;241m>\u001b[39m \u001b[38;5;241m0.3\u001b[39m]\u001b[38;5;241m.\u001b[39mhead(\u001b[38;5;241m50\u001b[39m)\n",
      "\u001b[1;31mNameError\u001b[0m: name 'rev' is not defined"
     ]
    }
   ],
   "source": [
    "rev[rev['neg'] > 0.3].head(50)"
   ]
  },
  {
   "cell_type": "code",
   "execution_count": 1,
   "id": "4076fd8f",
   "metadata": {},
   "outputs": [
    {
     "ename": "NameError",
     "evalue": "name 'rev' is not defined",
     "output_type": "error",
     "traceback": [
      "\u001b[1;31m---------------------------------------------------------------------------\u001b[0m",
      "\u001b[1;31mNameError\u001b[0m                                 Traceback (most recent call last)",
      "Cell \u001b[1;32mIn[1], line 1\u001b[0m\n\u001b[1;32m----> 1\u001b[0m \u001b[43mrev\u001b[49m\u001b[38;5;241m.\u001b[39minfo(memory_usage\u001b[38;5;241m=\u001b[39m\u001b[38;5;124m'\u001b[39m\u001b[38;5;124mdeep\u001b[39m\u001b[38;5;124m'\u001b[39m)\n",
      "\u001b[1;31mNameError\u001b[0m: name 'rev' is not defined"
     ]
    }
   ],
   "source": [
    "rev.info(memory_usage='deep')"
   ]
  },
  {
   "cell_type": "code",
   "execution_count": 39,
   "id": "2095404a",
   "metadata": {},
   "outputs": [
    {
     "data": {
      "text/plain": [
       "'waste money water damage mold photo misleading horrible area'"
      ]
     },
     "execution_count": 39,
     "metadata": {},
     "output_type": "execute_result"
    }
   ],
   "source": [
    "rev.comments_short[657688]"
   ]
  },
  {
   "cell_type": "code",
   "execution_count": 38,
   "id": "9935a53a",
   "metadata": {},
   "outputs": [
    {
     "data": {
      "text/plain": [
       "'die wohnung war sauber. sehr zentral gelegen.\\nwie beschrieben.\\nempfehlenswert!'"
      ]
     },
     "execution_count": 38,
     "metadata": {},
     "output_type": "execute_result"
    }
   ],
   "source": [
    "rev.comments[24664]"
   ]
  },
  {
   "cell_type": "code",
   "execution_count": null,
   "id": "bc0c2aaa",
   "metadata": {},
   "outputs": [],
   "source": []
  }
 ],
 "metadata": {
  "kernelspec": {
   "display_name": "Python 3 (ipykernel)",
   "language": "python",
   "name": "python3"
  },
  "language_info": {
   "codemirror_mode": {
    "name": "ipython",
    "version": 3
   },
   "file_extension": ".py",
   "mimetype": "text/x-python",
   "name": "python",
   "nbconvert_exporter": "python",
   "pygments_lexer": "ipython3",
   "version": "3.9.16"
  }
 },
 "nbformat": 4,
 "nbformat_minor": 5
}
