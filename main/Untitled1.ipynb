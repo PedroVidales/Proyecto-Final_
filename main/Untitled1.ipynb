{
 "cells": [
  {
   "cell_type": "code",
   "execution_count": 1,
   "id": "87241e78",
   "metadata": {},
   "outputs": [],
   "source": [
    "import pandas as pd\n",
    "import numpy as np \n",
    "import matplotlib.pyplot as plt\n",
    "import geopandas as gpd\n",
    "import seaborn as sns\n",
    "import matplotlib.pyplot as plt\n",
    "from sklearn.decomposition import PCA\n",
    "import json\n",
    "import os"
   ]
  },
  {
   "cell_type": "code",
   "execution_count": 4,
   "id": "26dd473a",
   "metadata": {},
   "outputs": [],
   "source": [
    "neighbourhoods_cluster = gpd.read_file('../madrid/neighbourhoods_full.geojson')"
   ]
  },
  {
   "cell_type": "code",
   "execution_count": 5,
   "id": "51988977",
   "metadata": {},
   "outputs": [
    {
     "data": {
      "text/html": [
       "<div>\n",
       "<style scoped>\n",
       "    .dataframe tbody tr th:only-of-type {\n",
       "        vertical-align: middle;\n",
       "    }\n",
       "\n",
       "    .dataframe tbody tr th {\n",
       "        vertical-align: top;\n",
       "    }\n",
       "\n",
       "    .dataframe thead th {\n",
       "        text-align: right;\n",
       "    }\n",
       "</style>\n",
       "<table border=\"1\" class=\"dataframe\">\n",
       "  <thead>\n",
       "    <tr style=\"text-align: right;\">\n",
       "      <th></th>\n",
       "      <th>id</th>\n",
       "      <th>neighbourhood</th>\n",
       "      <th>neighbourhood_group</th>\n",
       "      <th>attractions_neighbourhood</th>\n",
       "      <th>attraction_coordinates</th>\n",
       "      <th>geometry</th>\n",
       "    </tr>\n",
       "  </thead>\n",
       "  <tbody>\n",
       "    <tr>\n",
       "      <th>0</th>\n",
       "      <td>0</td>\n",
       "      <td>Palacio</td>\n",
       "      <td>Centro</td>\n",
       "      <td>[Plaza Mayor, El Retiro Park, TU TUK TUK Madri...</td>\n",
       "      <td>[ [ 40.415511000000002, -3.7074009000000001 ],...</td>\n",
       "      <td>MULTIPOLYGON (((-3.70584 40.42030, -3.70625 40...</td>\n",
       "    </tr>\n",
       "    <tr>\n",
       "      <th>1</th>\n",
       "      <td>1</td>\n",
       "      <td>Embajadores</td>\n",
       "      <td>Centro</td>\n",
       "      <td>[Plaza Mayor, El Retiro Park, TU TUK TUK Madri...</td>\n",
       "      <td>[ [ 40.415511000000002, -3.7074009000000001 ],...</td>\n",
       "      <td>MULTIPOLYGON (((-3.70384 40.41432, -3.70277 40...</td>\n",
       "    </tr>\n",
       "    <tr>\n",
       "      <th>2</th>\n",
       "      <td>2</td>\n",
       "      <td>Cortes</td>\n",
       "      <td>Centro</td>\n",
       "      <td>[Plaza Mayor, El Retiro Park, TU TUK TUK Madri...</td>\n",
       "      <td>[ [ 40.415511000000002, -3.7074009000000001 ],...</td>\n",
       "      <td>MULTIPOLYGON (((-3.69796 40.41929, -3.69645 40...</td>\n",
       "    </tr>\n",
       "    <tr>\n",
       "      <th>3</th>\n",
       "      <td>3</td>\n",
       "      <td>Justicia</td>\n",
       "      <td>Centro</td>\n",
       "      <td>[Plaza Mayor, El Retiro Park, TU TUK TUK Madri...</td>\n",
       "      <td>[ [ 40.415511000000002, -3.7074009000000001 ],...</td>\n",
       "      <td>MULTIPOLYGON (((-3.69546 40.41898, -3.69645 40...</td>\n",
       "    </tr>\n",
       "    <tr>\n",
       "      <th>4</th>\n",
       "      <td>4</td>\n",
       "      <td>Universidad</td>\n",
       "      <td>Centro</td>\n",
       "      <td>[Plaza Mayor, El Retiro Park, TU TUK TUK Madri...</td>\n",
       "      <td>[ [ 40.415511000000002, -3.7074009000000001 ],...</td>\n",
       "      <td>MULTIPOLYGON (((-3.70107 40.42134, -3.70155 40...</td>\n",
       "    </tr>\n",
       "  </tbody>\n",
       "</table>\n",
       "</div>"
      ],
      "text/plain": [
       "  id neighbourhood neighbourhood_group  \\\n",
       "0  0       Palacio              Centro   \n",
       "1  1   Embajadores              Centro   \n",
       "2  2        Cortes              Centro   \n",
       "3  3      Justicia              Centro   \n",
       "4  4   Universidad              Centro   \n",
       "\n",
       "                           attractions_neighbourhood  \\\n",
       "0  [Plaza Mayor, El Retiro Park, TU TUK TUK Madri...   \n",
       "1  [Plaza Mayor, El Retiro Park, TU TUK TUK Madri...   \n",
       "2  [Plaza Mayor, El Retiro Park, TU TUK TUK Madri...   \n",
       "3  [Plaza Mayor, El Retiro Park, TU TUK TUK Madri...   \n",
       "4  [Plaza Mayor, El Retiro Park, TU TUK TUK Madri...   \n",
       "\n",
       "                              attraction_coordinates  \\\n",
       "0  [ [ 40.415511000000002, -3.7074009000000001 ],...   \n",
       "1  [ [ 40.415511000000002, -3.7074009000000001 ],...   \n",
       "2  [ [ 40.415511000000002, -3.7074009000000001 ],...   \n",
       "3  [ [ 40.415511000000002, -3.7074009000000001 ],...   \n",
       "4  [ [ 40.415511000000002, -3.7074009000000001 ],...   \n",
       "\n",
       "                                            geometry  \n",
       "0  MULTIPOLYGON (((-3.70584 40.42030, -3.70625 40...  \n",
       "1  MULTIPOLYGON (((-3.70384 40.41432, -3.70277 40...  \n",
       "2  MULTIPOLYGON (((-3.69796 40.41929, -3.69645 40...  \n",
       "3  MULTIPOLYGON (((-3.69546 40.41898, -3.69645 40...  \n",
       "4  MULTIPOLYGON (((-3.70107 40.42134, -3.70155 40...  "
      ]
     },
     "execution_count": 5,
     "metadata": {},
     "output_type": "execute_result"
    }
   ],
   "source": [
    "neighbourhoods_cluster.head()"
   ]
  },
  {
   "cell_type": "code",
   "execution_count": null,
   "id": "6b6258d9",
   "metadata": {},
   "outputs": [],
   "source": []
  }
 ],
 "metadata": {
  "kernelspec": {
   "display_name": "Python 3 (ipykernel)",
   "language": "python",
   "name": "python3"
  },
  "language_info": {
   "codemirror_mode": {
    "name": "ipython",
    "version": 3
   },
   "file_extension": ".py",
   "mimetype": "text/x-python",
   "name": "python",
   "nbconvert_exporter": "python",
   "pygments_lexer": "ipython3",
   "version": "3.9.13"
  }
 },
 "nbformat": 4,
 "nbformat_minor": 5
}
