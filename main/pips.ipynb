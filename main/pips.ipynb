{
 "cells": [
  {
   "cell_type": "code",
   "execution_count": 1,
   "id": "5950588b",
   "metadata": {},
   "outputs": [],
   "source": [
    "#%pip install pandas"
   ]
  },
  {
   "cell_type": "code",
   "execution_count": 2,
   "id": "1ca233d2",
   "metadata": {},
   "outputs": [],
   "source": [
    "#%pip install transformers"
   ]
  },
  {
   "cell_type": "code",
   "execution_count": 3,
   "id": "c640f59b",
   "metadata": {},
   "outputs": [],
   "source": [
    "#%pip install torch"
   ]
  },
  {
   "cell_type": "code",
   "execution_count": 4,
   "id": "1342a013",
   "metadata": {},
   "outputs": [],
   "source": [
    "#%pip install tensorflow"
   ]
  },
  {
   "cell_type": "code",
   "execution_count": 5,
   "id": "9e3eb256",
   "metadata": {},
   "outputs": [],
   "source": [
    "#%pip install vaderSentiment\n"
   ]
  },
  {
   "cell_type": "code",
   "execution_count": 6,
   "id": "be724d8b",
   "metadata": {},
   "outputs": [],
   "source": [
    "#%pip install numpy\n"
   ]
  },
  {
   "cell_type": "code",
   "execution_count": 7,
   "id": "65c9b5f8",
   "metadata": {},
   "outputs": [],
   "source": [
    "#%pip install googletrans==4.0.0-rc1"
   ]
  },
  {
   "cell_type": "code",
   "execution_count": 8,
   "id": "1f8e371d",
   "metadata": {},
   "outputs": [],
   "source": [
    "#%pip install tqdm\n"
   ]
  },
  {
   "cell_type": "code",
   "execution_count": 9,
   "id": "d59916cb",
   "metadata": {},
   "outputs": [],
   "source": [
    "#%pip install --upgrade googletrans==4.0.0-rc1"
   ]
  },
  {
   "cell_type": "code",
   "execution_count": 10,
   "id": "7b736033",
   "metadata": {},
   "outputs": [],
   "source": [
    "#%pip install jupyter ipywidgets --upgrade"
   ]
  },
  {
   "cell_type": "code",
   "execution_count": 11,
   "id": "9fa43ef6",
   "metadata": {},
   "outputs": [],
   "source": [
    "#%pip install translate"
   ]
  },
  {
   "cell_type": "code",
   "execution_count": 12,
   "id": "ec5965ce",
   "metadata": {},
   "outputs": [],
   "source": [
    "#%pip install nltk"
   ]
  },
  {
   "cell_type": "code",
   "execution_count": 13,
   "id": "ef9c4a0a",
   "metadata": {},
   "outputs": [],
   "source": [
    "#%pip install spacy\n",
    "#!python -m spacy download all"
   ]
  },
  {
   "cell_type": "code",
   "execution_count": 14,
   "id": "853a15a4",
   "metadata": {},
   "outputs": [],
   "source": [
    "#!python -m spacy download fr_core_news_sm\n",
    "#!python -m spacy download es_core_news_sm\n",
    "#!python -m spacy download de_core_news_sm\n",
    "#!python -m spacy download nl_core_news_sm"
   ]
  },
  {
   "cell_type": "code",
   "execution_count": 15,
   "id": "0df40601",
   "metadata": {},
   "outputs": [],
   "source": [
    "#!python -m spacy download en_core_web_sm\n",
    "\n",
    "#!python -m spacy download pt_core_news_sm\n"
   ]
  },
  {
   "cell_type": "code",
   "execution_count": 16,
   "id": "23ca0ed2",
   "metadata": {},
   "outputs": [],
   "source": [
    "#%pip install matplotlib\n",
    "#%pip install geopandas\n",
    "#%pip install seaborn\n",
    "#%pip install regex"
   ]
  },
  {
   "cell_type": "code",
   "execution_count": 17,
   "id": "59f905d3",
   "metadata": {},
   "outputs": [],
   "source": [
    "#%pip install plotly"
   ]
  },
  {
   "cell_type": "code",
   "execution_count": 18,
   "id": "b833e59c",
   "metadata": {},
   "outputs": [],
   "source": [
    "#%pip install geojson\n"
   ]
  },
  {
   "cell_type": "code",
   "execution_count": 19,
   "id": "e4489bf7",
   "metadata": {},
   "outputs": [],
   "source": [
    "#%pip install folium"
   ]
  },
  {
   "cell_type": "code",
   "execution_count": 20,
   "id": "2f1f228b",
   "metadata": {},
   "outputs": [],
   "source": [
    "#%pip install mtranslate"
   ]
  },
  {
   "cell_type": "code",
   "execution_count": 21,
   "id": "a8e2fcc2",
   "metadata": {},
   "outputs": [],
   "source": [
    "#%pip install textblob\n"
   ]
  },
  {
   "cell_type": "code",
   "execution_count": null,
   "id": "a5a4a0c8",
   "metadata": {},
   "outputs": [],
   "source": []
  }
 ],
 "metadata": {
  "kernelspec": {
   "display_name": "Python 3 (ipykernel)",
   "language": "python",
   "name": "python3"
  },
  "language_info": {
   "codemirror_mode": {
    "name": "ipython",
    "version": 3
   },
   "file_extension": ".py",
   "mimetype": "text/x-python",
   "name": "python",
   "nbconvert_exporter": "python",
   "pygments_lexer": "ipython3",
   "version": "3.9.16"
  }
 },
 "nbformat": 4,
 "nbformat_minor": 5
}
