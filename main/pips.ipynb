{
 "cells": [
  {
   "cell_type": "code",
   "execution_count": null,
   "id": "5950588b",
   "metadata": {},
   "outputs": [],
   "source": [
    "#%pip install pandas"
   ]
  },
  {
   "cell_type": "code",
   "execution_count": null,
   "id": "1ca233d2",
   "metadata": {},
   "outputs": [],
   "source": [
    "#%pip install transformers"
   ]
  },
  {
   "cell_type": "code",
   "execution_count": null,
   "id": "c640f59b",
   "metadata": {},
   "outputs": [],
   "source": [
    "#%pip install torch"
   ]
  },
  {
   "cell_type": "code",
   "execution_count": null,
   "id": "1342a013",
   "metadata": {},
   "outputs": [],
   "source": [
    "#%pip install tensorflow"
   ]
  },
  {
   "cell_type": "code",
   "execution_count": null,
   "id": "9e3eb256",
   "metadata": {},
   "outputs": [],
   "source": [
    "#%pip install vaderSentiment\n"
   ]
  },
  {
   "cell_type": "code",
   "execution_count": null,
   "id": "be724d8b",
   "metadata": {},
   "outputs": [],
   "source": [
    "#%pip install numpy\n"
   ]
  },
  {
   "cell_type": "code",
   "execution_count": null,
   "id": "65c9b5f8",
   "metadata": {},
   "outputs": [],
   "source": [
    "#%pip install googletrans==4.0.0-rc1"
   ]
  },
  {
   "cell_type": "code",
   "execution_count": null,
   "id": "1f8e371d",
   "metadata": {},
   "outputs": [],
   "source": [
    "#%pip install tqdm\n"
   ]
  },
  {
   "cell_type": "code",
   "execution_count": null,
   "id": "004640a0",
   "metadata": {},
   "outputs": [],
   "source": [
    "#%pip install --upgrade googletrans==4.0.0-rc1"
   ]
  },
  {
   "cell_type": "code",
   "execution_count": null,
   "id": "8271b73b",
   "metadata": {},
   "outputs": [],
   "source": [
    "#%pip install jupyter ipywidgets --upgrade"
   ]
  },
  {
   "cell_type": "code",
   "execution_count": null,
   "id": "6b90ca40",
   "metadata": {},
   "outputs": [],
   "source": [
    "#%pip install translate"
   ]
  },
  {
   "cell_type": "code",
   "execution_count": null,
   "id": "ac079370",
   "metadata": {},
   "outputs": [],
   "source": [
    "#%pip install nltk"
   ]
  },
  {
   "cell_type": "code",
   "execution_count": null,
   "id": "238f68b8",
   "metadata": {},
   "outputs": [],
   "source": [
    "#%pip install spacy\n",
    "#!python -m spacy download all"
   ]
  },
  {
   "cell_type": "code",
   "execution_count": null,
   "id": "aaa4fd24",
   "metadata": {},
   "outputs": [],
   "source": [
    "#!python -m spacy download fr_core_news_sm\n",
    "#!python -m spacy download es_core_news_sm\n",
    "#!python -m spacy download de_core_news_sm\n",
    "#!python -m spacy download nl_core_news_sm"
   ]
  },
  {
   "cell_type": "code",
   "execution_count": null,
   "id": "afea3270",
   "metadata": {},
   "outputs": [],
   "source": [
    "#!python -m spacy download en_core_web_sm\n",
    "\n",
    "#!python -m spacy download pt_core_news_sm\n"
   ]
  },
  {
   "cell_type": "code",
   "execution_count": null,
   "id": "93a12118",
   "metadata": {},
   "outputs": [],
   "source": [
    "#%pip install matplotlib\n",
    "#%pip install geopandas\n",
    "#%pip install seaborn\n",
    "#%pip install regex"
   ]
  },
  {
   "cell_type": "code",
   "execution_count": null,
   "id": "0f82c1d2",
   "metadata": {},
   "outputs": [],
   "source": []
  }
 ],
 "metadata": {
  "kernelspec": {
   "display_name": "Python 3 (ipykernel)",
   "language": "python",
   "name": "python3"
  },
  "language_info": {
   "codemirror_mode": {
    "name": "ipython",
    "version": 3
   },
   "file_extension": ".py",
   "mimetype": "text/x-python",
   "name": "python",
   "nbconvert_exporter": "python",
   "pygments_lexer": "ipython3",
   "version": "3.9.16"
  }
 },
 "nbformat": 4,
 "nbformat_minor": 5
}
