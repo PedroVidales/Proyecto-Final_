{
 "cells": [
  {
   "cell_type": "code",
   "execution_count": null,
   "id": "5950588b",
   "metadata": {},
   "outputs": [],
   "source": [
    "#%pip install pandas"
   ]
  },
  {
   "cell_type": "code",
   "execution_count": null,
   "id": "1ca233d2",
   "metadata": {},
   "outputs": [],
   "source": [
    "#%pip install transformers"
   ]
  },
  {
   "cell_type": "code",
   "execution_count": null,
   "id": "c640f59b",
   "metadata": {},
   "outputs": [],
   "source": [
    "#%pip install torch"
   ]
  },
  {
   "cell_type": "code",
   "execution_count": null,
   "id": "1342a013",
   "metadata": {},
   "outputs": [],
   "source": [
    "#%pip install tensorflow"
   ]
  },
  {
   "cell_type": "code",
   "execution_count": null,
   "id": "9e3eb256",
   "metadata": {},
   "outputs": [],
   "source": [
    "#%pip install vaderSentiment\n"
   ]
  },
  {
   "cell_type": "code",
   "execution_count": null,
   "id": "be724d8b",
   "metadata": {},
   "outputs": [],
   "source": [
    "#%pip install numpy\n"
   ]
  },
  {
   "cell_type": "code",
   "execution_count": null,
   "id": "65c9b5f8",
   "metadata": {},
   "outputs": [],
   "source": [
    "#%pip install googletrans==4.0.0-rc1"
   ]
  },
  {
   "cell_type": "code",
   "execution_count": null,
   "id": "1f8e371d",
   "metadata": {},
   "outputs": [],
   "source": [
    "#%pip install tqdm\n"
   ]
  },
  {
   "cell_type": "code",
   "execution_count": null,
   "id": "d59916cb",
   "metadata": {},
   "outputs": [],
   "source": [
    "#%pip install --upgrade googletrans==4.0.0-rc1"
   ]
  },
  {
   "cell_type": "code",
   "execution_count": null,
   "id": "7b736033",
   "metadata": {},
   "outputs": [],
   "source": [
    "#%pip install jupyter ipywidgets --upgrade"
   ]
  },
  {
   "cell_type": "code",
   "execution_count": null,
   "id": "9fa43ef6",
   "metadata": {},
   "outputs": [],
   "source": [
    "#%pip install translate"
   ]
  },
  {
   "cell_type": "code",
   "execution_count": null,
   "id": "ec5965ce",
   "metadata": {},
   "outputs": [],
   "source": [
    "#%pip install nltk"
   ]
  },
  {
   "cell_type": "code",
   "execution_count": null,
   "id": "ef9c4a0a",
   "metadata": {},
   "outputs": [],
   "source": [
    "#%pip install spacy\n",
    "#!python -m spacy download all"
   ]
  },
  {
   "cell_type": "code",
   "execution_count": null,
   "id": "853a15a4",
   "metadata": {},
   "outputs": [],
   "source": [
    "#!python -m spacy download fr_core_news_sm\n",
    "#!python -m spacy download es_core_news_sm\n",
    "#!python -m spacy download de_core_news_sm\n",
    "#!python -m spacy download nl_core_news_sm"
   ]
  },
  {
   "cell_type": "code",
   "execution_count": null,
   "id": "0df40601",
   "metadata": {},
   "outputs": [],
   "source": [
    "#!python -m spacy download en_core_web_sm\n",
    "\n",
    "#!python -m spacy download pt_core_news_sm\n"
   ]
  },
  {
   "cell_type": "code",
   "execution_count": null,
   "id": "23ca0ed2",
   "metadata": {},
   "outputs": [],
   "source": [
    "#%pip install matplotlib\n",
    "#%pip install geopandas\n",
    "#%pip install seaborn\n",
    "#%pip install regex"
   ]
  },
  {
   "cell_type": "code",
   "execution_count": null,
   "id": "59f905d3",
   "metadata": {},
   "outputs": [],
   "source": [
    "#%pip install plotly"
   ]
  },
  {
   "cell_type": "code",
   "execution_count": null,
   "id": "b833e59c",
   "metadata": {},
   "outputs": [],
   "source": [
    "#%pip install geojson\n"
   ]
  },
  {
   "cell_type": "code",
   "execution_count": null,
   "id": "e4489bf7",
   "metadata": {},
   "outputs": [],
   "source": [
    "#%pip install folium"
   ]
  },
  {
   "cell_type": "code",
   "execution_count": null,
   "id": "2f1f228b",
   "metadata": {},
   "outputs": [],
   "source": []
  }
 ],
 "metadata": {
  "kernelspec": {
   "display_name": "Python 3 (ipykernel)",
   "language": "python",
   "name": "python3"
  },
  "language_info": {
   "codemirror_mode": {
    "name": "ipython",
    "version": 3
   },
   "file_extension": ".py",
   "mimetype": "text/x-python",
   "name": "python",
   "nbconvert_exporter": "python",
   "pygments_lexer": "ipython3",
   "version": "3.9.16"
  }
 },
 "nbformat": 4,
 "nbformat_minor": 5
}
