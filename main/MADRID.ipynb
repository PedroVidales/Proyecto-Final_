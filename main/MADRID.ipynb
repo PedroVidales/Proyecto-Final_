{
 "cells": [
  {
   "cell_type": "code",
   "execution_count": 3,
   "id": "2ad67f5a",
   "metadata": {},
   "outputs": [
    {
     "name": "stdout",
     "output_type": "stream",
     "text": [
      "Collecting geopandas\n",
      "  Downloading geopandas-0.12.2-py3-none-any.whl (1.1 MB)\n",
      "     ---------------------------------------- 1.1/1.1 MB 13.3 MB/s eta 0:00:00\n",
      "Collecting shapely>=1.7\n",
      "  Downloading shapely-2.0.1-cp39-cp39-win_amd64.whl (1.4 MB)\n",
      "     ---------------------------------------- 1.4/1.4 MB 12.5 MB/s eta 0:00:00\n",
      "Collecting fiona>=1.8\n",
      "  Downloading Fiona-1.9.1-cp39-cp39-win_amd64.whl (22.0 MB)\n",
      "     --------------------------------------- 22.0/22.0 MB 19.8 MB/s eta 0:00:00\n",
      "Requirement already satisfied: pandas>=1.0.0 in c:\\users\\pedro vidales\\anaconda3\\lib\\site-packages (from geopandas) (1.4.4)\n",
      "Requirement already satisfied: packaging in c:\\users\\pedro vidales\\anaconda3\\lib\\site-packages (from geopandas) (21.3)\n",
      "Collecting pyproj>=2.6.1.post1\n",
      "  Downloading pyproj-3.4.1-cp39-cp39-win_amd64.whl (4.8 MB)\n",
      "     ---------------------------------------- 4.8/4.8 MB 25.9 MB/s eta 0:00:00\n",
      "Collecting munch>=2.3.2\n",
      "  Downloading munch-2.5.0-py2.py3-none-any.whl (10 kB)\n",
      "Requirement already satisfied: setuptools in c:\\users\\pedro vidales\\anaconda3\\lib\\site-packages (from fiona>=1.8->geopandas) (63.4.1)\n",
      "Requirement already satisfied: attrs>=19.2.0 in c:\\users\\pedro vidales\\anaconda3\\lib\\site-packages (from fiona>=1.8->geopandas) (21.4.0)\n",
      "Collecting cligj>=0.5\n",
      "  Downloading cligj-0.7.2-py3-none-any.whl (7.1 kB)\n",
      "Requirement already satisfied: certifi in c:\\users\\pedro vidales\\anaconda3\\lib\\site-packages (from fiona>=1.8->geopandas) (2022.9.14)\n",
      "Requirement already satisfied: click~=8.0 in c:\\users\\pedro vidales\\anaconda3\\lib\\site-packages (from fiona>=1.8->geopandas) (8.0.4)\n",
      "Collecting click-plugins>=1.0\n",
      "  Downloading click_plugins-1.1.1-py2.py3-none-any.whl (7.5 kB)\n",
      "Requirement already satisfied: python-dateutil>=2.8.1 in c:\\users\\pedro vidales\\anaconda3\\lib\\site-packages (from pandas>=1.0.0->geopandas) (2.8.2)\n",
      "Requirement already satisfied: numpy>=1.18.5 in c:\\users\\pedro vidales\\anaconda3\\lib\\site-packages (from pandas>=1.0.0->geopandas) (1.21.5)\n",
      "Requirement already satisfied: pytz>=2020.1 in c:\\users\\pedro vidales\\anaconda3\\lib\\site-packages (from pandas>=1.0.0->geopandas) (2022.1)\n",
      "Requirement already satisfied: pyparsing!=3.0.5,>=2.0.2 in c:\\users\\pedro vidales\\anaconda3\\lib\\site-packages (from packaging->geopandas) (3.0.9)\n",
      "Requirement already satisfied: colorama in c:\\users\\pedro vidales\\anaconda3\\lib\\site-packages (from click~=8.0->fiona>=1.8->geopandas) (0.4.5)\n",
      "Requirement already satisfied: six in c:\\users\\pedro vidales\\anaconda3\\lib\\site-packages (from munch>=2.3.2->fiona>=1.8->geopandas) (1.16.0)\n",
      "Installing collected packages: shapely, pyproj, munch, cligj, click-plugins, fiona, geopandas\n",
      "Successfully installed click-plugins-1.1.1 cligj-0.7.2 fiona-1.9.1 geopandas-0.12.2 munch-2.5.0 pyproj-3.4.1 shapely-2.0.1\n",
      "Note: you may need to restart the kernel to use updated packages.\n"
     ]
    }
   ],
   "source": [
    "#%pip install geopandas\n",
    "import pandas as pd\n",
    "import numpy as np \n",
    "import matplotlib.pyplot as plt\n",
    "import geopandas as gpd"
   ]
  },
  {
   "cell_type": "code",
   "execution_count": 4,
   "id": "085b1d99",
   "metadata": {},
   "outputs": [],
   "source": [
    "neighbourhoods_gdf = gpd.read_file('../madrid/neighbourhoods.geojson')"
   ]
  },
  {
   "cell_type": "code",
   "execution_count": 7,
   "id": "82c13d1f",
   "metadata": {},
   "outputs": [],
   "source": [
    "calendar_madrid = pd.read_csv('../madrid/calendar/calendar.csv')\n",
    "listings_madrid = pd.read_csv('../madrid/listings/listings.csv')\n",
    "listings_detailed_madrid = pd.read_csv('../madrid/listings_detailed/listings_detailed.csv', low_memory=False)\n",
    "neighbourhoods_madrid = pd.read_csv('../madrid/neighbourhoods.csv')\n",
    "reviews_madrid = pd.read_csv('../madrid/reviews/reviews.csv')\n",
    "reviews_detailed_madrid = pd.read_csv('../madrid/reviews_detailed/reviews_detailed.csv')\n"
   ]
  },
  {
   "cell_type": "code",
   "execution_count": 44,
   "id": "6f2edc2e",
   "metadata": {},
   "outputs": [
    {
     "data": {
      "text/html": [
       "<div>\n",
       "<style scoped>\n",
       "    .dataframe tbody tr th:only-of-type {\n",
       "        vertical-align: middle;\n",
       "    }\n",
       "\n",
       "    .dataframe tbody tr th {\n",
       "        vertical-align: top;\n",
       "    }\n",
       "\n",
       "    .dataframe thead th {\n",
       "        text-align: right;\n",
       "    }\n",
       "</style>\n",
       "<table border=\"1\" class=\"dataframe\">\n",
       "  <thead>\n",
       "    <tr style=\"text-align: right;\">\n",
       "      <th></th>\n",
       "      <th>neighbourhood</th>\n",
       "      <th>neighbourhood_group</th>\n",
       "      <th>geometry</th>\n",
       "    </tr>\n",
       "  </thead>\n",
       "  <tbody>\n",
       "    <tr>\n",
       "      <th>0</th>\n",
       "      <td>Palacio</td>\n",
       "      <td>Centro</td>\n",
       "      <td>MULTIPOLYGON (((-3.70584 40.42030, -3.70625 40...</td>\n",
       "    </tr>\n",
       "    <tr>\n",
       "      <th>1</th>\n",
       "      <td>Embajadores</td>\n",
       "      <td>Centro</td>\n",
       "      <td>MULTIPOLYGON (((-3.70384 40.41432, -3.70277 40...</td>\n",
       "    </tr>\n",
       "    <tr>\n",
       "      <th>2</th>\n",
       "      <td>Cortes</td>\n",
       "      <td>Centro</td>\n",
       "      <td>MULTIPOLYGON (((-3.69796 40.41929, -3.69645 40...</td>\n",
       "    </tr>\n",
       "    <tr>\n",
       "      <th>3</th>\n",
       "      <td>Justicia</td>\n",
       "      <td>Centro</td>\n",
       "      <td>MULTIPOLYGON (((-3.69546 40.41898, -3.69645 40...</td>\n",
       "    </tr>\n",
       "    <tr>\n",
       "      <th>4</th>\n",
       "      <td>Universidad</td>\n",
       "      <td>Centro</td>\n",
       "      <td>MULTIPOLYGON (((-3.70107 40.42134, -3.70155 40...</td>\n",
       "    </tr>\n",
       "  </tbody>\n",
       "</table>\n",
       "</div>"
      ],
      "text/plain": [
       "  neighbourhood neighbourhood_group  \\\n",
       "0       Palacio              Centro   \n",
       "1   Embajadores              Centro   \n",
       "2        Cortes              Centro   \n",
       "3      Justicia              Centro   \n",
       "4   Universidad              Centro   \n",
       "\n",
       "                                            geometry  \n",
       "0  MULTIPOLYGON (((-3.70584 40.42030, -3.70625 40...  \n",
       "1  MULTIPOLYGON (((-3.70384 40.41432, -3.70277 40...  \n",
       "2  MULTIPOLYGON (((-3.69796 40.41929, -3.69645 40...  \n",
       "3  MULTIPOLYGON (((-3.69546 40.41898, -3.69645 40...  \n",
       "4  MULTIPOLYGON (((-3.70107 40.42134, -3.70155 40...  "
      ]
     },
     "execution_count": 44,
     "metadata": {},
     "output_type": "execute_result"
    }
   ],
   "source": [
    "neighbourhoods_gdf.head()"
   ]
  },
  {
   "cell_type": "markdown",
   "id": "b04a6f59",
   "metadata": {},
   "source": [
    "##### ANALIZAMOS LOS ARCHIVOS Y BUSCAMOS DUPLICADOS Y VALORES NULOS UNO POR UNO"
   ]
  },
  {
   "cell_type": "code",
   "execution_count": 19,
   "id": "d38a5fbe",
   "metadata": {},
   "outputs": [
    {
     "name": "stdout",
     "output_type": "stream",
     "text": [
      "No hay duplicados en el dataframe\n"
     ]
    }
   ],
   "source": [
    "if calendar_madrid.duplicated().any():\n",
    "    print(\"Hay duplicados en el dataframe\")\n",
    "else:\n",
    "    print(\"No hay duplicados en el dataframe\")"
   ]
  },
  {
   "cell_type": "code",
   "execution_count": 20,
   "id": "4d6e9e6b",
   "metadata": {},
   "outputs": [
    {
     "name": "stdout",
     "output_type": "stream",
     "text": [
      "No hay duplicados en el dataframe\n"
     ]
    }
   ],
   "source": [
    "if listings_madrid.duplicated().any():\n",
    "    print(\"Hay duplicados en el dataframe\")\n",
    "else:\n",
    "    print(\"No hay duplicados en el dataframe\")"
   ]
  },
  {
   "cell_type": "code",
   "execution_count": 22,
   "id": "8299e4ab",
   "metadata": {},
   "outputs": [
    {
     "name": "stdout",
     "output_type": "stream",
     "text": [
      "No hay duplicados en el dataframe\n"
     ]
    }
   ],
   "source": [
    "if listings_detailed_madrid.duplicated().any():\n",
    "    print(\"Hay duplicados en el dataframe\")\n",
    "else:\n",
    "    print(\"No hay duplicados en el dataframe\")"
   ]
  },
  {
   "cell_type": "code",
   "execution_count": 23,
   "id": "9394697d",
   "metadata": {},
   "outputs": [
    {
     "name": "stdout",
     "output_type": "stream",
     "text": [
      "No hay duplicados en el dataframe\n"
     ]
    }
   ],
   "source": [
    "if neighbourhoods_madrid.duplicated().any():\n",
    "    print(\"Hay duplicados en el dataframe\")\n",
    "else:\n",
    "    print(\"No hay duplicados en el dataframe\")"
   ]
  },
  {
   "cell_type": "markdown",
   "id": "834e5d08",
   "metadata": {},
   "source": [
    "##### EN EL ARCHIVO REVIEWS_MADRID EXISTEN DUPLICADOS, LOS ELIMINAMOS."
   ]
  },
  {
   "cell_type": "code",
   "execution_count": 24,
   "id": "edc7ce45",
   "metadata": {},
   "outputs": [
    {
     "name": "stdout",
     "output_type": "stream",
     "text": [
      "Hay duplicados en el dataframe\n"
     ]
    }
   ],
   "source": [
    "if reviews_madrid.duplicated().any():\n",
    "    print(\"Hay duplicados en el dataframe\")\n",
    "else:\n",
    "    print(\"No hay duplicados en el dataframe\")"
   ]
  },
  {
   "cell_type": "code",
   "execution_count": 29,
   "id": "97364f05",
   "metadata": {},
   "outputs": [],
   "source": [
    "reviews_madrid = reviews_madrid.drop_duplicates()"
   ]
  },
  {
   "cell_type": "code",
   "execution_count": 30,
   "id": "06ddefc2",
   "metadata": {},
   "outputs": [
    {
     "name": "stdout",
     "output_type": "stream",
     "text": [
      "No hay duplicados en el dataframe\n"
     ]
    }
   ],
   "source": [
    "#COMPROBAMOS\n",
    "\n",
    "if reviews_madrid.duplicated().any():\n",
    "    print(\"Hay duplicados en el dataframe\")\n",
    "else:\n",
    "    print(\"No hay duplicados en el dataframe\")"
   ]
  },
  {
   "cell_type": "code",
   "execution_count": 25,
   "id": "fb3d32a1",
   "metadata": {},
   "outputs": [
    {
     "name": "stdout",
     "output_type": "stream",
     "text": [
      "No hay duplicados en el dataframe\n"
     ]
    }
   ],
   "source": [
    "if reviews_detailed_madrid.duplicated().any():\n",
    "    print(\"Hay duplicados en el dataframe\")\n",
    "else:\n",
    "    print(\"No hay duplicados en el dataframe\")"
   ]
  },
  {
   "cell_type": "code",
   "execution_count": 31,
   "id": "de5a9f50",
   "metadata": {},
   "outputs": [],
   "source": [
    "# MIRAMOS LOS VALORES NULOS POR ARCHIVO"
   ]
  },
  {
   "cell_type": "code",
   "execution_count": 32,
   "id": "9e203ad5",
   "metadata": {},
   "outputs": [
    {
     "name": "stdout",
     "output_type": "stream",
     "text": [
      "No hay valores nulos en el dataframe\n"
     ]
    }
   ],
   "source": [
    "if calendar_madrid.isnull().any().any():\n",
    "    print(\"Hay valores nulos en el dataframe\")\n",
    "else:\n",
    "    print(\"No hay valores nulos en el dataframe\")"
   ]
  },
  {
   "cell_type": "code",
   "execution_count": 33,
   "id": "28f07f2e",
   "metadata": {},
   "outputs": [
    {
     "name": "stdout",
     "output_type": "stream",
     "text": [
      "Hay valores nulos en el dataframe\n"
     ]
    }
   ],
   "source": [
    "if listings_madrid.isnull().any().any():\n",
    "    print(\"Hay valores nulos en el dataframe\")\n",
    "else:\n",
    "    print(\"No hay valores nulos en el dataframe\")"
   ]
  },
  {
   "cell_type": "code",
   "execution_count": 34,
   "id": "64585025",
   "metadata": {},
   "outputs": [
    {
     "name": "stdout",
     "output_type": "stream",
     "text": [
      "Hay valores nulos en el dataframe\n"
     ]
    }
   ],
   "source": [
    "if listings_detailed_madrid.isnull().any().any():\n",
    "    print(\"Hay valores nulos en el dataframe\")\n",
    "else:\n",
    "    print(\"No hay valores nulos en el dataframe\")"
   ]
  },
  {
   "cell_type": "code",
   "execution_count": 35,
   "id": "c1f23aa0",
   "metadata": {},
   "outputs": [
    {
     "name": "stdout",
     "output_type": "stream",
     "text": [
      "No hay valores nulos en el dataframe\n"
     ]
    }
   ],
   "source": [
    "if neighbourhoods_madrid.isnull().any().any():\n",
    "    print(\"Hay valores nulos en el dataframe\")\n",
    "else:\n",
    "    print(\"No hay valores nulos en el dataframe\")"
   ]
  },
  {
   "cell_type": "code",
   "execution_count": 36,
   "id": "5db61206",
   "metadata": {},
   "outputs": [
    {
     "name": "stdout",
     "output_type": "stream",
     "text": [
      "No hay valores nulos en el dataframe\n"
     ]
    }
   ],
   "source": [
    "if reviews_madrid.isnull().any().any():\n",
    "    print(\"Hay valores nulos en el dataframe\")\n",
    "else:\n",
    "    print(\"No hay valores nulos en el dataframe\")"
   ]
  },
  {
   "cell_type": "code",
   "execution_count": 37,
   "id": "9a5bded6",
   "metadata": {},
   "outputs": [
    {
     "name": "stdout",
     "output_type": "stream",
     "text": [
      "Hay valores nulos en el dataframe\n"
     ]
    }
   ],
   "source": [
    "if reviews_detailed_madrid.isnull().any().any():\n",
    "    print(\"Hay valores nulos en el dataframe\")\n",
    "else:\n",
    "    print(\"No hay valores nulos en el dataframe\")"
   ]
  },
  {
   "cell_type": "markdown",
   "id": "c77a50b8",
   "metadata": {},
   "source": [
    "##### TENEMOS TRES ARCHIVOS CON VALORES NULOS:  listings_madrid, listings_detailed_madrid y reviews_detailed_madrid.\n",
    "##### VAMOS A ESTUDIARLOS UNO POR UNO Y A DECIDIR SI ELIMINAR LAS FILAS CON VALORES NULOS O RELLENAR ESOS VALORES CON INFORMACIÓN ÚTIL"
   ]
  },
  {
   "cell_type": "code",
   "execution_count": null,
   "id": "f38c7aac",
   "metadata": {},
   "outputs": [],
   "source": [
    "#listings_madrid"
   ]
  },
  {
   "cell_type": "code",
   "execution_count": 40,
   "id": "c7193bd8",
   "metadata": {},
   "outputs": [
    {
     "data": {
      "text/plain": [
       "id                                   0\n",
       "name                                 5\n",
       "host_id                              0\n",
       "host_name                           15\n",
       "neighbourhood_group                  0\n",
       "neighbourhood                        0\n",
       "latitude                             0\n",
       "longitude                            0\n",
       "room_type                            0\n",
       "price                                0\n",
       "minimum_nights                       0\n",
       "number_of_reviews                    0\n",
       "last_review                       4654\n",
       "reviews_per_month                 4654\n",
       "calculated_host_listings_count       0\n",
       "availability_365                     0\n",
       "dtype: int64"
      ]
     },
     "execution_count": 40,
     "metadata": {},
     "output_type": "execute_result"
    }
   ],
   "source": [
    "nulos_por_columna_listings = listings_madrid.isnull().sum()\n",
    "nulos_por_columna_listings"
   ]
  },
  {
   "cell_type": "code",
   "execution_count": null,
   "id": "934b7dfa",
   "metadata": {},
   "outputs": [],
   "source": [
    "#listings_detailed_madrid"
   ]
  },
  {
   "cell_type": "code",
   "execution_count": 43,
   "id": "0b613a3d",
   "metadata": {},
   "outputs": [
    {
     "data": {
      "text/plain": [
       "id                                                 0\n",
       "listing_url                                        0\n",
       "scrape_id                                          0\n",
       "last_scraped                                       0\n",
       "name                                               5\n",
       "                                                ... \n",
       "calculated_host_listings_count                     0\n",
       "calculated_host_listings_count_entire_homes        0\n",
       "calculated_host_listings_count_private_rooms       0\n",
       "calculated_host_listings_count_shared_rooms        0\n",
       "reviews_per_month                               4654\n",
       "Length: 106, dtype: int64"
      ]
     },
     "execution_count": 43,
     "metadata": {},
     "output_type": "execute_result"
    }
   ],
   "source": [
    "nulos_por_columna_listings_detailed_madrid = listings_detailed_madrid.isnull().sum()\n",
    "nulos_por_columna_listings_detailed_madrid"
   ]
  },
  {
   "cell_type": "code",
   "execution_count": null,
   "id": "73ac0adf",
   "metadata": {},
   "outputs": [],
   "source": [
    "#reviews_detailed_madrid"
   ]
  },
  {
   "cell_type": "code",
   "execution_count": 42,
   "id": "fb494fe6",
   "metadata": {},
   "outputs": [
    {
     "data": {
      "text/plain": [
       "listing_id         0\n",
       "id                 0\n",
       "date               0\n",
       "reviewer_id        0\n",
       "reviewer_name      1\n",
       "comments         300\n",
       "dtype: int64"
      ]
     },
     "execution_count": 42,
     "metadata": {},
     "output_type": "execute_result"
    }
   ],
   "source": [
    "nulos_por_columna_reviews_detailed_madrid = reviews_detailed_madrid.isnull().sum()\n",
    "nulos_por_columna_reviews_detailed_madrid"
   ]
  },
  {
   "cell_type": "code",
   "execution_count": 46,
   "id": "ef442045",
   "metadata": {},
   "outputs": [
    {
     "data": {
      "text/plain": [
       "(20837, 106)"
      ]
     },
     "execution_count": 46,
     "metadata": {},
     "output_type": "execute_result"
    }
   ],
   "source": [
    "listings_detailed_madrid.shape"
   ]
  },
  {
   "cell_type": "code",
   "execution_count": null,
   "id": "4aae5901",
   "metadata": {},
   "outputs": [],
   "source": []
  }
 ],
 "metadata": {
  "kernelspec": {
   "display_name": "Python 3 (ipykernel)",
   "language": "python",
   "name": "python3"
  },
  "language_info": {
   "codemirror_mode": {
    "name": "ipython",
    "version": 3
   },
   "file_extension": ".py",
   "mimetype": "text/x-python",
   "name": "python",
   "nbconvert_exporter": "python",
   "pygments_lexer": "ipython3",
   "version": "3.9.13"
  }
 },
 "nbformat": 4,
 "nbformat_minor": 5
}
